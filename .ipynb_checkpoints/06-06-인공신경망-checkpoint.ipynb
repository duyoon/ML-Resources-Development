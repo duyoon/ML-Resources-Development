{
 "cells": [
  {
   "cell_type": "markdown",
   "metadata": {},
   "source": [
    "# CHAPTER 06 머신러닝, 딥러닝 기초 이론\n",
    "\n",
    "## 6. 인공 신경망"
   ]
  },
  {
   "cell_type": "code",
   "execution_count": 2,
   "metadata": {},
   "outputs": [
    {
     "name": "stderr",
     "output_type": "stream",
     "text": [
      "C:\\Users\\Daeung\\Anaconda3\\lib\\site-packages\\h5py\\__init__.py:34: FutureWarning: Conversion of the second argument of issubdtype from `float` to `np.floating` is deprecated. In future, it will be treated as `np.float64 == np.dtype(float).type`.\n",
      "  from ._conv import register_converters as _register_converters\n"
     ]
    }
   ],
   "source": [
    "import numpy as np\n",
    "import os\n",
    "import tensorflow as tf\n",
    "\n",
    "def reset_graph(seed=42):\n",
    "    tf.reset_default_graph()\n",
    "    tf.set_random_seed(seed)\n",
    "    np.random.seed(seed)\n",
    "\n",
    "%matplotlib inline\n",
    "import matplotlib\n",
    "import matplotlib.pyplot as plt"
   ]
  },
  {
   "cell_type": "markdown",
   "metadata": {},
   "source": [
    "### 6.5.1 텐서플로우 기본 작동 원리"
   ]
  },
  {
   "cell_type": "code",
   "execution_count": 3,
   "metadata": {},
   "outputs": [
    {
     "name": "stdout",
     "output_type": "stream",
     "text": [
      "Tensor(\"add:0\", shape=(), dtype=int32)\n"
     ]
    }
   ],
   "source": [
    "import tensorflow as tf\n",
    "\n",
    "W = tf.constant(1)\n",
    "X = tf.constant(1)\n",
    "b = tf.constant(1)\n",
    "y = W * X + b \n",
    "\n",
    "print(y)"
   ]
  },
  {
   "cell_type": "code",
   "execution_count": 4,
   "metadata": {},
   "outputs": [
    {
     "name": "stdout",
     "output_type": "stream",
     "text": [
      "y =  2\n"
     ]
    }
   ],
   "source": [
    "sess = tf.Session()\n",
    "result = sess.run(y)\n",
    "print('y = ', result)\n",
    "sess.close()"
   ]
  },
  {
   "cell_type": "code",
   "execution_count": 5,
   "metadata": {},
   "outputs": [
    {
     "name": "stdout",
     "output_type": "stream",
     "text": [
      "y =  2\n"
     ]
    }
   ],
   "source": [
    "with tf.Session() as sess:\n",
    "    result = sess.run(y)\n",
    "    print('y = ', result)\n"
   ]
  },
  {
   "cell_type": "markdown",
   "metadata": {},
   "source": [
    "Variable 예제"
   ]
  },
  {
   "cell_type": "code",
   "execution_count": 27,
   "metadata": {},
   "outputs": [
    {
     "name": "stdout",
     "output_type": "stream",
     "text": [
      "y =  2\n",
      "y =  3\n"
     ]
    }
   ],
   "source": [
    "import tensorflow as tf\n",
    "\n",
    "X = tf.constant(1)\n",
    "W = tf.Variable(1)\n",
    "b = tf.Variable(1)\n",
    "y = W * X + b \n",
    "\n",
    "update_op = tf.assign(W, W + 1)\n",
    "\n",
    "init = tf.global_variables_initializer()\n",
    "with tf.Session() as sess:\n",
    "    init.run()\n",
    "    result = sess.run(y)\n",
    "    print('y = ', result)    \n",
    "    sess.run(update_op)    \n",
    "    result = sess.run(y)\n",
    "    print('y = ', result)"
   ]
  },
  {
   "cell_type": "markdown",
   "metadata": {},
   "source": [
    "placeholder 예제"
   ]
  },
  {
   "cell_type": "code",
   "execution_count": 7,
   "metadata": {},
   "outputs": [
    {
     "name": "stdout",
     "output_type": "stream",
     "text": [
      "y =  [2]\n",
      "y =  [3 5]\n"
     ]
    }
   ],
   "source": [
    "import tensorflow as tf\n",
    "\n",
    "X = tf.placeholder(tf.int32, shape = (None))\n",
    "W = tf.Variable(1)\n",
    "b = tf.Variable(1)\n",
    "y = W * X + b \n",
    "\n",
    "update_op = tf.assign(W, W + 1)\n",
    "\n",
    "init = tf.global_variables_initializer()\n",
    "with tf.Session() as sess:\n",
    "    init.run()\n",
    "    result = sess.run(y, feed_dict={X: [1]})\n",
    "    print('y = ', result)\n",
    "    \n",
    "    sess.run(update_op)\n",
    "    \n",
    "    result = sess.run(y, feed_dict={X: [1, 2]})\n",
    "    print('y = ', result)\n",
    "        "
   ]
  },
  {
   "cell_type": "markdown",
   "metadata": {},
   "source": [
    "## 6.5.2 다층 퍼셉트론 구현"
   ]
  },
  {
   "cell_type": "markdown",
   "metadata": {},
   "source": [
    "**훈련 데이터**"
   ]
  },
  {
   "cell_type": "code",
   "execution_count": 8,
   "metadata": {},
   "outputs": [
    {
     "data": {
      "image/png": "[encoded data removed]",
      "text/plain": [
       "<Figure size 432x288 with 1 Axes>"
      ]
     },
     "metadata": {},
     "output_type": "display_data"
    }
   ],
   "source": [
    "from sklearn.datasets import make_circles, make_moons\n",
    "X_train, y_train = make_circles(n_samples=300, factor=0.1, noise=0.1,random_state=0)\n",
    "\n",
    "def plot_dataset(X, y, axes):\n",
    "    plt.plot(X[:, 0][y==0], X[:, 1][y==0], \"bo\")\n",
    "    plt.plot(X[:, 0][y==1], X[:, 1][y==1], \"go\")\n",
    "    plt.axis(axes)\n",
    "    plt.gca().set_aspect('equal')\n",
    "    plt.grid(True, which='both')\n",
    "    plt.xlabel(r\"$x_1$\", fontsize=20)\n",
    "    plt.ylabel(r\"$x_2$\", fontsize=20, rotation=0)\n",
    "\n",
    "plot_dataset(X_train, y_train, [-1.5, 1.5, -1.5, 1.5])\n",
    "plt.show()"
   ]
  },
  {
   "cell_type": "markdown",
   "metadata": {},
   "source": [
    "**Construction Phase**"
   ]
  },
  {
   "cell_type": "code",
   "execution_count": 29,
   "metadata": {},
   "outputs": [],
   "source": [
    "reset_graph()\n",
    "\n",
    "n_inputs = 2\n",
    "n_hidden = 3\n",
    "n_outputs =2\n",
    "\n",
    "learning_rate = 0.1\n",
    "\n",
    "X = tf.placeholder(tf.float32, shape=(None, n_inputs))\n",
    "y = tf.placeholder(tf.int32, shape=(None))\n",
    "y_one_hot = tf.one_hot(y, depth=2)\n",
    "\n",
    "W1 = tf.Variable(tf.random_uniform((n_inputs, n_hidden),-1.0, 1.0, seed=0))\n",
    "b1 = tf.Variable(tf.zeros([n_hidden]))\n",
    "\n",
    "W2 = tf.Variable(tf.random_uniform((n_hidden, n_outputs),-1.0, 1.0, seed=0))\n",
    "b2 = tf.Variable(tf.zeros([n_outputs]))\n",
    "\n",
    "Z = tf.nn.sigmoid(tf.add(tf.matmul(X, W1), b1))\n",
    "logits = tf.add(tf.matmul(Z, W2), b2)\n",
    "\n",
    "\n",
    "pred = tf.argmax(logits, axis=1)\n",
    "\n",
    "xentropy = tf.nn.sigmoid_cross_entropy_with_logits(labels=y_one_hot, logits=logits)\n",
    "loss = tf.reduce_mean(xentropy)"
   ]
  },
  {
   "cell_type": "code",
   "execution_count": 30,
   "metadata": {},
   "outputs": [],
   "source": [
    "grad_W1, grad_W2, grad_b1, grad_b2 = tf.gradients(loss, [W1, W2, b1, b2])\n",
    "\n",
    "update_W1 = W1.assign(W1 - learning_rate * grad_W1)\n",
    "update_W2 = W2.assign(W2 - learning_rate * grad_W2)\n",
    "update_b1 = b1.assign(b1 - learning_rate * grad_b1)\n",
    "update_b2 = b2.assign(b2 - learning_rate * grad_b2)"
   ]
  },
  {
   "cell_type": "markdown",
   "metadata": {},
   "source": [
    "**Execution Phase**"
   ]
  },
  {
   "cell_type": "code",
   "execution_count": 31,
   "metadata": {},
   "outputs": [
    {
     "name": "stdout",
     "output_type": "stream",
     "text": [
      "Epoch 0 loss = 0.72017175\n",
      "Epoch 1000 loss = 0.6933112\n",
      "Epoch 2000 loss = 0.69315946\n",
      "Epoch 3000 loss = 0.6930083\n",
      "Epoch 4000 loss = 0.6927504\n",
      "Epoch 5000 loss = 0.69210577\n",
      "Epoch 6000 loss = 0.6898323\n",
      "Epoch 7000 loss = 0.67914486\n",
      "Epoch 8000 loss = 0.6438312\n",
      "Epoch 9000 loss = 0.59557265\n",
      "Epoch 10000 loss = 0.5180364\n"
     ]
    }
   ],
   "source": [
    "init = tf.global_variables_initializer()\n",
    "\n",
    "n_epochs = 10001\n",
    "with tf.Session() as sess:\n",
    "    sess.run(init)\n",
    "    for epoch in range(n_epochs):\n",
    "        sess.run([loss, update_W1, update_W2, update_b1, update_b2], feed_dict={X: X_train, y: y_train})\n",
    "       \n",
    "        if epoch % 1000 == 0: \n",
    "            print(\"Epoch\", epoch, \"loss =\", loss.eval(feed_dict={X: X_train, y: y_train}))\n"
   ]
  },
  {
   "cell_type": "markdown",
   "metadata": {},
   "source": [
    "**옵티마이저 사용**"
   ]
  },
  {
   "cell_type": "code",
   "execution_count": 14,
   "metadata": {},
   "outputs": [
    {
     "name": "stdout",
     "output_type": "stream",
     "text": [
      "Epoch 0 loss = 0.7145189\n",
      "Epoch 1000 loss = 0.6802356\n",
      "Epoch 2000 loss = 0.6248913\n",
      "Epoch 3000 loss = 0.4921999\n",
      "Epoch 4000 loss = 0.3402831\n",
      "Epoch 5000 loss = 0.233697\n",
      "Epoch 6000 loss = 0.17054303\n",
      "Epoch 7000 loss = 0.13165027\n",
      "Epoch 8000 loss = 0.106082276\n",
      "Epoch 9000 loss = 0.088289626\n",
      "Epoch 10000 loss = 0.075322695\n"
     ]
    }
   ],
   "source": [
    "optimizer = tf.train.GradientDescentOptimizer(learning_rate = learning_rate)\n",
    "training_op = optimizer.minimize(loss)\n",
    "\n",
    "init = tf.global_variables_initializer()\n",
    "\n",
    "n_epochs = 10001\n",
    "with tf.Session() as sess:\n",
    "    sess.run(init)\n",
    "    for epoch in range(n_epochs):\n",
    "        sess.run(training_op, feed_dict={X: X_train, y: y_train})\n",
    "       \n",
    "        if epoch % 1000 == 0: \n",
    "            print(\"Epoch\", epoch, \"loss =\", loss.eval(feed_dict={X: X_train, y: y_train}))"
   ]
  },
  {
   "cell_type": "markdown",
   "metadata": {},
   "source": [
    "**Adam 옵티마이저 사용**"
   ]
  },
  {
   "cell_type": "code",
   "execution_count": 32,
   "metadata": {},
   "outputs": [
    {
     "name": "stdout",
     "output_type": "stream",
     "text": [
      "Epoch 0 loss = 0.69912046\n",
      "Epoch 1000 loss = 0.0019900107\n",
      "Epoch 2000 loss = 0.00058186037\n",
      "Epoch 3000 loss = 0.0002568544\n",
      "Epoch 4000 loss = 0.00013199069\n",
      "Epoch 5000 loss = 7.294129e-05\n",
      "Epoch 6000 loss = 4.1904088e-05\n",
      "Epoch 7000 loss = 2.4606905e-05\n",
      "Epoch 8000 loss = 1.4635965e-05\n",
      "Epoch 9000 loss = 8.7722765e-06\n",
      "Epoch 10000 loss = 5.2821324e-06\n"
     ]
    }
   ],
   "source": [
    "optimizer = tf.train.AdamOptimizer(learning_rate = learning_rate)\n",
    "training_op = optimizer.minimize(loss)\n",
    "\n",
    "init = tf.global_variables_initializer()\n",
    "\n",
    "n_epochs = 10001\n",
    "with tf.Session() as sess:\n",
    "    sess.run(init)\n",
    "    for epoch in range(n_epochs):\n",
    "        sess.run(training_op, feed_dict={X: X_train, y: y_train})\n",
    "       \n",
    "        if epoch % 1000 == 0: \n",
    "            print(\"Epoch\", epoch, \"loss =\", loss.eval(feed_dict={X: X_train, y: y_train}))"
   ]
  },
  {
   "cell_type": "markdown",
   "metadata": {},
   "source": [
    "**미니 배치 경사 하강법**"
   ]
  },
  {
   "cell_type": "code",
   "execution_count": 16,
   "metadata": {},
   "outputs": [],
   "source": [
    "n_samples = len(X_train)\n",
    "def fetch_batch(batch_size, epoch, iteration):\n",
    "    np.random.seed(epoch)\n",
    "    shuffled_indices = np.random.permutation(n_samples)\n",
    "    batch_indices = shuffled_indices[iteration * batch_size:(iteration+1)*batch_size]\n",
    "    return X_train[batch_indices, :], y_train[batch_indices]"
   ]
  },
  {
   "cell_type": "code",
   "execution_count": 17,
   "metadata": {},
   "outputs": [
    {
     "name": "stdout",
     "output_type": "stream",
     "text": [
      "Epoch 0 loss = 0.6641128\n",
      "Epoch 100 loss = 0.009338792\n",
      "Epoch 200 loss = 0.0024723364\n",
      "Epoch 300 loss = 0.0008674047\n",
      "Epoch 400 loss = 0.0004912802\n",
      "Epoch 500 loss = 0.00030047988\n",
      "Epoch 600 loss = 0.00015475071\n",
      "Epoch 700 loss = 0.000117552205\n",
      "Epoch 800 loss = 9.379999e-05\n",
      "Epoch 900 loss = 2.8114755e-05\n",
      "Epoch 1000 loss = 3.2007174e-05\n"
     ]
    }
   ],
   "source": [
    "n_epochs = 1001\n",
    "batch_size = 32\n",
    "with tf.Session() as sess:\n",
    "    sess.run(init)\n",
    "    for epoch in range(n_epochs):\n",
    "        for iteration in range(n_samples // batch_size):\n",
    "            X_batch, y_batch = fetch_batch(batch_size, epoch, iteration)\n",
    "            sess.run(training_op, feed_dict={X: X_batch, y: y_batch})\n",
    "       \n",
    "        if epoch % 100 == 0: \n",
    "            print(\"Epoch\", epoch, \"loss =\", loss.eval(feed_dict={X: X_batch, y: y_batch}))"
   ]
  },
  {
   "cell_type": "markdown",
   "metadata": {},
   "source": [
    "**텐서보드를 이용한 시각화**"
   ]
  },
  {
   "cell_type": "code",
   "execution_count": 18,
   "metadata": {},
   "outputs": [
    {
     "name": "stdout",
     "output_type": "stream",
     "text": [
      "Epoch 0 loss = 0.70815223\n",
      "Epoch 100 loss = 0.69300175\n",
      "Epoch 200 loss = 0.6922803\n",
      "Epoch 300 loss = 0.69030285\n",
      "Epoch 400 loss = 0.6909466\n",
      "Epoch 500 loss = 0.6944545\n",
      "Epoch 600 loss = 0.6923089\n",
      "Epoch 700 loss = 0.6729763\n",
      "Epoch 800 loss = 0.69765\n",
      "Epoch 900 loss = 0.6208962\n",
      "Epoch 1000 loss = 0.6324753\n",
      "Epoch 1100 loss = 0.5516732\n",
      "Epoch 1200 loss = 0.41701415\n",
      "Epoch 1300 loss = 0.30659318\n",
      "Epoch 1400 loss = 0.37154552\n",
      "Epoch 1500 loss = 0.2534955\n",
      "Epoch 1600 loss = 0.27752328\n",
      "Epoch 1700 loss = 0.19012852\n",
      "Epoch 1800 loss = 0.24420223\n",
      "Epoch 1900 loss = 0.107086375\n",
      "Epoch 2000 loss = 0.07938772\n",
      "Epoch 2100 loss = 0.06329066\n",
      "Epoch 2200 loss = 0.05630389\n",
      "Epoch 2300 loss = 0.04539364\n",
      "Epoch 2400 loss = 0.033207253\n",
      "Epoch 2500 loss = 0.048703894\n",
      "Epoch 2600 loss = 0.03103451\n",
      "Epoch 2700 loss = 0.024141196\n",
      "Epoch 2800 loss = 0.024843259\n",
      "Epoch 2900 loss = 0.02160205\n",
      "Epoch 3000 loss = 0.0256204\n"
     ]
    }
   ],
   "source": [
    "root_logdir = 'logs'                               #추가된 부분\n",
    "logdir = '{}/log-{}'.format(root_logdir, 'GD')     #추가된 부분\n",
    "\n",
    "reset_graph()\n",
    "\n",
    "n_inputs = 2\n",
    "n_hidden = 3\n",
    "n_outputs =2\n",
    "learning_rate = 0.1\n",
    "\n",
    "X = tf.placeholder(tf.float32, shape=(None, n_inputs))\n",
    "y = tf.placeholder(tf.int32, shape=(None))\n",
    "y_one_hot = tf.one_hot(y, depth=2)\n",
    "\n",
    "W1 = tf.Variable(tf.random_uniform((n_inputs, n_hidden),-1.0, 1.0, seed=0))\n",
    "b1 = tf.Variable(tf.zeros([n_hidden]))\n",
    "\n",
    "W2 = tf.Variable(tf.random_uniform((n_hidden, n_outputs),-1.0, 1.0, seed=0))\n",
    "b2 = tf.Variable(tf.zeros([n_outputs]))\n",
    "\n",
    "Z = tf.nn.sigmoid(tf.add(tf.matmul(X, W1), b1))\n",
    "logits = tf.add(tf.matmul(Z, W2), b2)\n",
    "\n",
    "\n",
    "pred = tf.argmax(logits, axis=1)\n",
    "\n",
    "xentropy = tf.nn.sigmoid_cross_entropy_with_logits(labels=y_one_hot, logits=logits)\n",
    "loss = tf.reduce_mean(xentropy)\n",
    "\n",
    "optimizer = tf.train.GradientDescentOptimizer(learning_rate = learning_rate)\n",
    "training_op = optimizer.minimize(loss)\n",
    "\n",
    "loss_summary = tf.summary.scalar('loss', loss)                           #추가된 부분\n",
    "file_writer = tf.summary.FileWriter(logdir, tf.get_default_graph())      #추가된 부분\n",
    "\n",
    "init = tf.global_variables_initializer()\n",
    "\n",
    "n_samples = len(X_train)\n",
    "def fetch_batch(batch_size, epoch, iteration):\n",
    "    np.random.seed(epoch)\n",
    "    shuffled_indices = np.random.permutation(n_samples)\n",
    "    batch_indices = shuffled_indices[iteration * batch_size:(iteration+1)*batch_size]\n",
    "    return X_train[batch_indices, :], y_train[batch_indices]\n",
    "\n",
    "n_epochs = 3001\n",
    "batch_size = 32\n",
    "with tf.Session() as sess:\n",
    "    sess.run(init)\n",
    "    for epoch in range(n_epochs):\n",
    "        for iteration in range(n_samples // batch_size):\n",
    "            X_batch, y_batch = fetch_batch(batch_size, epoch, iteration)\n",
    "            sess.run(training_op, feed_dict={X: X_batch, y: y_batch})\n",
    "             \n",
    "        if epoch % 100 == 0: \n",
    "            print(\"Epoch\", epoch, \"loss =\", loss.eval(feed_dict={X: X_batch, y: y_batch}))\n",
    "            summary_str = sess.run(loss_summary, feed_dict={X: X_batch, y: y_batch})         #추가된 부분\n",
    "            file_writer.add_summary(summary_str, epoch)                                      #추가된 부분\n",
    "file_writer.close()                                                                          #추가된 부분\n"
   ]
  },
  {
   "cell_type": "code",
   "execution_count": 21,
   "metadata": {},
   "outputs": [
    {
     "name": "stdout",
     "output_type": "stream",
     "text": [
      "Epoch 0 loss = 0.7022952\n",
      "Epoch 100 loss = 0.0025116662\n",
      "Epoch 200 loss = 0.0011059927\n",
      "Epoch 300 loss = 0.00030567474\n",
      "Epoch 400 loss = 0.00018620233\n",
      "Epoch 500 loss = 0.00011306527\n",
      "Epoch 600 loss = 5.903248e-05\n",
      "Epoch 700 loss = 4.3682518e-05\n",
      "Epoch 800 loss = 4.2403124e-05\n",
      "Epoch 900 loss = 1.7947783e-05\n",
      "Epoch 1000 loss = 8.829158e-06\n",
      "Epoch 1100 loss = 5.647135e-06\n",
      "Epoch 1200 loss = 3.525286e-06\n",
      "Epoch 1300 loss = 2.2136937e-06\n",
      "Epoch 1400 loss = 1.7427665e-06\n",
      "Epoch 1500 loss = 1.0049032e-06\n",
      "Epoch 1600 loss = 5.978127e-07\n",
      "Epoch 1700 loss = 3.9548038e-07\n",
      "Epoch 1800 loss = 2.975557e-07\n",
      "Epoch 1900 loss = 2.0363247e-07\n",
      "Epoch 2000 loss = 1.06249075e-07\n",
      "Epoch 2100 loss = 7.621058e-08\n",
      "Epoch 2200 loss = 4.994253e-08\n",
      "Epoch 2300 loss = 2.9217485e-08\n",
      "Epoch 2400 loss = 1.9870399e-08\n",
      "Epoch 2500 loss = 1.2196108e-08\n",
      "Epoch 2600 loss = 7.450662e-09\n",
      "Epoch 2700 loss = 5.633889e-09\n",
      "Epoch 2800 loss = 3.477316e-09\n",
      "Epoch 2900 loss = 2.2393734e-09\n",
      "Epoch 3000 loss = 2.0610667e-09\n"
     ]
    }
   ],
   "source": [
    "root_logdir = 'logs'                                 \n",
    "logdir = '{}/log-{}'.format(root_logdir, 'Adam')     #변경된 부분\n",
    "\n",
    "reset_graph()\n",
    "\n",
    "n_inputs = 2\n",
    "n_hidden = 3\n",
    "n_outputs =2\n",
    "learning_rate = 0.1\n",
    "\n",
    "X = tf.placeholder(tf.float32, shape=(None, n_inputs))\n",
    "y = tf.placeholder(tf.int32, shape=(None))\n",
    "y_one_hot = tf.one_hot(y, depth=2)\n",
    "\n",
    "W1 = tf.Variable(tf.random_uniform((n_inputs, n_hidden),-1.0, 1.0, seed=0))\n",
    "b1 = tf.Variable(tf.zeros([n_hidden]))\n",
    "\n",
    "W2 = tf.Variable(tf.random_uniform((n_hidden, n_outputs),-1.0, 1.0, seed=0))\n",
    "b2 = tf.Variable(tf.zeros([n_outputs]))\n",
    "\n",
    "Z = tf.nn.sigmoid(tf.add(tf.matmul(X, W1), b1))\n",
    "logits = tf.add(tf.matmul(Z, W2), b2)\n",
    "\n",
    "\n",
    "pred = tf.argmax(logits, axis=1)\n",
    "\n",
    "xentropy = tf.nn.sigmoid_cross_entropy_with_logits(labels=y_one_hot, logits=logits)\n",
    "loss = tf.reduce_mean(xentropy)\n",
    "\n",
    "optimizer = tf.train.AdamOptimizer(learning_rate = learning_rate)        #변경된 부분\n",
    "training_op = optimizer.minimize(loss)\n",
    "\n",
    "loss_summary = tf.summary.scalar('loss', loss)                           \n",
    "file_writer = tf.summary.FileWriter(logdir, tf.get_default_graph())      \n",
    "\n",
    "init = tf.global_variables_initializer()\n",
    "\n",
    "n_samples = len(X_train)\n",
    "def fetch_batch(batch_size, epoch, iteration):\n",
    "    np.random.seed(epoch)\n",
    "    shuffled_indices = np.random.permutation(n_samples)\n",
    "    batch_indices = shuffled_indices[iteration * batch_size:(iteration+1)*batch_size]\n",
    "    return X_train[batch_indices, :], y_train[batch_indices]\n",
    "\n",
    "n_epochs = 3001\n",
    "batch_size = 32\n",
    "with tf.Session() as sess:\n",
    "    sess.run(init)\n",
    "    for epoch in range(n_epochs):\n",
    "        for iteration in range(n_samples // batch_size):\n",
    "            X_batch, y_batch = fetch_batch(batch_size, epoch, iteration)\n",
    "            sess.run(training_op, feed_dict={X: X_batch, y: y_batch})\n",
    "             \n",
    "        if epoch % 100 == 0: \n",
    "            print(\"Epoch\", epoch, \"loss =\", loss.eval(feed_dict={X: X_batch, y: y_batch}))\n",
    "            summary_str = sess.run(loss_summary, feed_dict={X: X_batch, y: y_batch})         \n",
    "            file_writer.add_summary(summary_str, epoch)                                      \n",
    "file_writer.close()                                                                         \n"
   ]
  },
  {
   "cell_type": "markdown",
   "metadata": {},
   "source": [
    "### 텐서보드 실행\n",
    "\n",
    "터미널을 열고 현재의 디렉토리로 이동 후,  <br>\n",
    "텐서보드를 다음과 같이 실행한다. <br>\n",
    "\n",
    "$ tensorboard --logdir = ./logs\n"
   ]
  },
  {
   "cell_type": "markdown",
   "metadata": {},
   "source": [
    "### 그래프 정리"
   ]
  },
  {
   "cell_type": "code",
   "execution_count": 20,
   "metadata": {},
   "outputs": [
    {
     "name": "stdout",
     "output_type": "stream",
     "text": [
      "Epoch 0 loss = 0.7022952\n",
      "Epoch 100 loss = 0.0025116662\n",
      "Epoch 200 loss = 0.0011059927\n",
      "Epoch 300 loss = 0.00030567474\n",
      "Epoch 400 loss = 0.00018620233\n",
      "Epoch 500 loss = 0.00011306527\n",
      "Epoch 600 loss = 5.903248e-05\n",
      "Epoch 700 loss = 4.3682518e-05\n",
      "Epoch 800 loss = 4.2403124e-05\n",
      "Epoch 900 loss = 1.7947783e-05\n",
      "Epoch 1000 loss = 8.829158e-06\n",
      "Epoch 1100 loss = 5.647135e-06\n",
      "Epoch 1200 loss = 3.525286e-06\n",
      "Epoch 1300 loss = 2.2136937e-06\n",
      "Epoch 1400 loss = 1.7427665e-06\n",
      "Epoch 1500 loss = 1.0049032e-06\n",
      "Epoch 1600 loss = 5.978127e-07\n",
      "Epoch 1700 loss = 3.9548038e-07\n",
      "Epoch 1800 loss = 2.975557e-07\n",
      "Epoch 1900 loss = 2.0363247e-07\n",
      "Epoch 2000 loss = 1.06249075e-07\n",
      "Epoch 2100 loss = 7.621058e-08\n",
      "Epoch 2200 loss = 4.994253e-08\n",
      "Epoch 2300 loss = 2.9217485e-08\n",
      "Epoch 2400 loss = 1.9870399e-08\n",
      "Epoch 2500 loss = 1.2196108e-08\n",
      "Epoch 2600 loss = 7.450662e-09\n",
      "Epoch 2700 loss = 5.633889e-09\n",
      "Epoch 2800 loss = 3.477316e-09\n",
      "Epoch 2900 loss = 2.2393734e-09\n",
      "Epoch 3000 loss = 2.0610667e-09\n"
     ]
    }
   ],
   "source": [
    "root_logdir = 'logs'\n",
    "logdir = '{}/log-{}'.format(root_logdir, 'Adam')\n",
    "\n",
    "reset_graph()\n",
    "\n",
    "n_inputs = 2\n",
    "n_hidden = 3\n",
    "n_outputs =2\n",
    "learning_rate = 0.1\n",
    "\n",
    "X = tf.placeholder(tf.float32, shape=(None, n_inputs), name=\"X\")\n",
    "\n",
    "with tf.name_scope(\"label\") as scope:\n",
    "    y = tf.placeholder(tf.int32, shape=(None), name=\"y\")\n",
    "    y_one_hot = tf.one_hot(y, depth=2, name=\"y_one_hot\")\n",
    "\n",
    "W1 = tf.Variable(tf.random_uniform((n_inputs, n_hidden),-1.0, 1.0, seed=0), name=\"W1\")\n",
    "b1 = tf.Variable(tf.zeros([n_hidden]), name=\"b1\")\n",
    "\n",
    "W2 = tf.Variable(tf.random_uniform((n_hidden, n_outputs),-1.0, 1.0, seed=0), name=\"W2\")\n",
    "b2 = tf.Variable(tf.zeros([n_outputs]), name=\"b2\")\n",
    "\n",
    "Z = tf.nn.sigmoid(tf.add(tf.matmul(X, W1), b1))\n",
    "logits = tf.add(tf.matmul(Z, W2), b2)\n",
    "\n",
    "\n",
    "pred = tf.argmax(logits, axis=1)\n",
    "\n",
    "with tf.name_scope(\"loss\") as scope:\n",
    "    xentropy = tf.nn.sigmoid_cross_entropy_with_logits(labels=y_one_hot, logits=logits)\n",
    "    loss = tf.reduce_mean(xentropy)\n",
    "\n",
    "optimizer = tf.train.AdamOptimizer(learning_rate = learning_rate)\n",
    "training_op = optimizer.minimize(loss)\n",
    "\n",
    "loss_summary = tf.summary.scalar('loss', loss)\n",
    "file_writer = tf.summary.FileWriter(logdir, tf.get_default_graph())\n",
    "\n",
    "\n",
    "init = tf.global_variables_initializer()\n",
    "\n",
    "n_samples = len(X_train)\n",
    "def fetch_batch(batch_size, epoch, iteration):\n",
    "    np.random.seed(epoch)\n",
    "    shuffled_indices = np.random.permutation(n_samples)\n",
    "    batch_indices = shuffled_indices[iteration * batch_size:(iteration+1)*batch_size]\n",
    "    return X_train[batch_indices, :], y_train[batch_indices]\n",
    "\n",
    "n_epochs = 3001\n",
    "batch_size = 32\n",
    "with tf.Session() as sess:\n",
    "    sess.run(init)\n",
    "    for epoch in range(n_epochs):\n",
    "        for iteration in range(n_samples // batch_size):\n",
    "            X_batch, y_batch = fetch_batch(batch_size, epoch, iteration)\n",
    "            sess.run(training_op, feed_dict={X: X_batch, y: y_batch})\n",
    "             \n",
    "        if epoch % 100 == 0: \n",
    "            print(\"Epoch\", epoch, \"loss =\", loss.eval(feed_dict={X: X_batch, y: y_batch}))\n",
    "            summary_str = sess.run(loss_summary, feed_dict={X: X_batch, y: y_batch})\n",
    "            file_writer.add_summary(summary_str, epoch)\n",
    "file_writer.close()"
   ]
  },
  {
   "cell_type": "markdown",
   "metadata": {},
   "source": [
    "### 모델의 저장과 복원"
   ]
  },
  {
   "cell_type": "code",
   "execution_count": 35,
   "metadata": {},
   "outputs": [
    {
     "name": "stdout",
     "output_type": "stream",
     "text": [
      "Epoch 0 loss = 0.7022952\n",
      "Epoch 100 loss = 0.0025116662\n",
      "Epoch 200 loss = 0.0011059927\n",
      "Epoch 300 loss = 0.00030567474\n",
      "Epoch 400 loss = 0.00018620233\n",
      "Epoch 500 loss = 0.00011306527\n",
      "Epoch 600 loss = 5.903248e-05\n",
      "Epoch 700 loss = 4.3682518e-05\n",
      "Epoch 800 loss = 4.2403124e-05\n",
      "Epoch 900 loss = 1.7947783e-05\n",
      "Epoch 1000 loss = 8.829158e-06\n",
      "Epoch 1100 loss = 5.647135e-06\n",
      "Epoch 1200 loss = 3.525286e-06\n",
      "Epoch 1300 loss = 2.2136937e-06\n",
      "Epoch 1400 loss = 1.7427665e-06\n",
      "Epoch 1500 loss = 1.0049032e-06\n",
      "Epoch 1600 loss = 5.978127e-07\n",
      "Epoch 1700 loss = 3.9548038e-07\n",
      "Epoch 1800 loss = 2.975557e-07\n",
      "Epoch 1900 loss = 2.0363247e-07\n",
      "Epoch 2000 loss = 1.06249075e-07\n",
      "Epoch 2100 loss = 7.621058e-08\n",
      "Epoch 2200 loss = 4.994253e-08\n",
      "Epoch 2300 loss = 2.9217485e-08\n",
      "Epoch 2400 loss = 1.9870399e-08\n",
      "Epoch 2500 loss = 1.2196108e-08\n",
      "Epoch 2600 loss = 7.450662e-09\n",
      "Epoch 2700 loss = 5.633889e-09\n",
      "Epoch 2800 loss = 3.477316e-09\n",
      "Epoch 2900 loss = 2.2393734e-09\n",
      "Epoch 3000 loss = 2.0610667e-09\n"
     ]
    }
   ],
   "source": [
    "root_logdir = 'logs'\n",
    "logdir = '{}/log-{}'.format(root_logdir, 'Adam')\n",
    "\n",
    "reset_graph()\n",
    "\n",
    "n_inputs = 2\n",
    "n_hidden = 3\n",
    "n_outputs =2\n",
    "learning_rate = 0.1\n",
    "\n",
    "X = tf.placeholder(tf.float32, shape=(None, n_inputs), name=\"X\")\n",
    "\n",
    "with tf.name_scope(\"label\") as scope:\n",
    "    y = tf.placeholder(tf.int32, shape=(None), name=\"y\")\n",
    "    y_one_hot = tf.one_hot(y, depth=2, name=\"y_one_hot\")\n",
    "\n",
    "W1 = tf.Variable(tf.random_uniform((n_inputs, n_hidden),-1.0, 1.0, seed=0), name=\"W1\")\n",
    "b1 = tf.Variable(tf.zeros([n_hidden]), name=\"b1\")\n",
    "\n",
    "W2 = tf.Variable(tf.random_uniform((n_hidden, n_outputs),-1.0, 1.0, seed=0), name=\"W2\")\n",
    "b2 = tf.Variable(tf.zeros([n_outputs]), name=\"b2\")\n",
    "\n",
    "Z = tf.nn.sigmoid(tf.add(tf.matmul(X, W1), b1))\n",
    "logits = tf.add(tf.matmul(Z, W2), b2)\n",
    "\n",
    "\n",
    "pred = tf.argmax(logits, axis=1)\n",
    "\n",
    "with tf.name_scope(\"loss\") as scope:\n",
    "    xentropy = tf.nn.sigmoid_cross_entropy_with_logits(labels=y_one_hot, logits=logits)\n",
    "    loss = tf.reduce_mean(xentropy)\n",
    "\n",
    "optimizer = tf.train.AdamOptimizer(learning_rate = learning_rate)\n",
    "training_op = optimizer.minimize(loss)\n",
    "\n",
    "loss_summary = tf.summary.scalar('loss', loss)\n",
    "file_writer = tf.summary.FileWriter(logdir, tf.get_default_graph())\n",
    "\n",
    "saver = tf.train.Saver()                            #추가된 부분\n",
    "\n",
    "init = tf.global_variables_initializer()\n",
    "\n",
    "n_samples = len(X_train)\n",
    "def fetch_batch(batch_size, epoch, iteration):\n",
    "    np.random.seed(epoch)\n",
    "    shuffled_indices = np.random.permutation(n_samples)\n",
    "    batch_indices = shuffled_indices[iteration * batch_size:(iteration+1)*batch_size]\n",
    "    return X_train[batch_indices, :], y_train[batch_indices]\n",
    "\n",
    "n_epochs = 3001\n",
    "batch_size = 32\n",
    "with tf.Session() as sess:\n",
    "    sess.run(init)\n",
    "    for epoch in range(n_epochs):\n",
    "        for iteration in range(n_samples // batch_size):\n",
    "            X_batch, y_batch = fetch_batch(batch_size, epoch, iteration)\n",
    "            sess.run(training_op, feed_dict={X: X_batch, y: y_batch})\n",
    "             \n",
    "        if epoch % 100 == 0: \n",
    "            print(\"Epoch\", epoch, \"loss =\", loss.eval(feed_dict={X: X_batch, y: y_batch}))\n",
    "            summary_str = sess.run(loss_summary, feed_dict={X: X_batch, y: y_batch})\n",
    "            file_writer.add_summary(summary_str, epoch)\n",
    "    \n",
    "    save_path = saver.save(sess, \"./models/model_final.ckpt\")\n",
    "file_writer.close()"
   ]
  },
  {
   "cell_type": "code",
   "execution_count": 36,
   "metadata": {},
   "outputs": [
    {
     "name": "stdout",
     "output_type": "stream",
     "text": [
      "INFO:tensorflow:Restoring parameters from ./models/model_final.ckpt\n"
     ]
    },
    {
     "data": {
      "text/plain": [
       "<matplotlib.contour.QuadContourSet at 0x25ccefd3f98>"
      ]
     },
     "execution_count": 36,
     "metadata": {},
     "output_type": "execute_result"
    },
    {
     "data": {
      "image/png": "[encoded data removed]",
      "text/plain": [
       "<Figure size 432x288 with 1 Axes>"
      ]
     },
     "metadata": {},
     "output_type": "display_data"
    }
   ],
   "source": [
    "with tf.Session() as sess:\n",
    "    saver.restore(sess, \"./models/model_final.ckpt\")\n",
    "    x0s = np.linspace(-1.5, 1.5, 1000)\n",
    "    x1s = np.linspace(-1.5, 1.5, 1000)\n",
    "    x0, x1 = np.meshgrid(x0s, x1s)\n",
    "    X_new = np.c_[x0.ravel(), x1.ravel()] \n",
    "    y_pred = sess.run(pred, feed_dict={X: X_new})\n",
    "\n",
    "plot_dataset(X_train, y_train, [-1.5, 1.5, -1.5, 1.5])\n",
    "plt.contourf(x0, x1, y_pred.reshape(1000,1000), cmap=plt.cm.brg, alpha=0.2)  \n"
   ]
  },
  {
   "cell_type": "code",
   "execution_count": 37,
   "metadata": {},
   "outputs": [
    {
     "name": "stdout",
     "output_type": "stream",
     "text": [
      "Epoch 0 loss = 0.6948612\n",
      "Epoch 100 loss = 0.089908406\n",
      "Epoch 200 loss = 0.19593967\n",
      "Epoch 300 loss = 0.24837051\n",
      "Epoch 400 loss = 0.24957927\n",
      "Epoch 500 loss = 0.28432783\n",
      "Epoch 600 loss = 0.15955958\n",
      "Epoch 700 loss = 0.2446151\n",
      "Epoch 800 loss = 0.28649676\n",
      "Epoch 900 loss = 0.21525699\n",
      "Epoch 1000 loss = 0.46675965\n",
      "Epoch 1100 loss = 0.26032066\n",
      "Epoch 1200 loss = 0.26941293\n",
      "Epoch 1300 loss = 0.1799398\n",
      "Epoch 1400 loss = 0.2934072\n",
      "Epoch 1500 loss = 0.1500995\n",
      "Epoch 1600 loss = 0.22122866\n",
      "Epoch 1700 loss = 0.16907921\n",
      "Epoch 1800 loss = 0.3899669\n",
      "Epoch 1900 loss = 0.19330847\n",
      "Epoch 2000 loss = 0.09975595\n",
      "Epoch 2100 loss = 0.12548839\n",
      "Epoch 2200 loss = 0.18803675\n",
      "Epoch 2300 loss = 0.26335806\n",
      "Epoch 2400 loss = 0.08654228\n",
      "Epoch 2500 loss = 0.3451331\n",
      "Epoch 2600 loss = 0.17335945\n",
      "Epoch 2700 loss = 0.06699464\n",
      "Epoch 2800 loss = 0.43722722\n",
      "Epoch 2900 loss = 0.22527122\n",
      "Epoch 3000 loss = 0.312746\n"
     ]
    }
   ],
   "source": [
    "root_logdir = 'logs'\n",
    "logdir = '{}/log-{}'.format(root_logdir, 'Adam')\n",
    "\n",
    "reset_graph()\n",
    "\n",
    "n_inputs = 2\n",
    "n_hidden = 2                                     #은닉층의 뉴런의수가 2개일 경우\n",
    "n_outputs =2\n",
    "learning_rate = 0.1\n",
    "\n",
    "X = tf.placeholder(tf.float32, shape=(None, n_inputs), name=\"X\")\n",
    "\n",
    "with tf.name_scope(\"label\") as scope:\n",
    "    y = tf.placeholder(tf.int32, shape=(None), name=\"y\")\n",
    "    y_one_hot = tf.one_hot(y, depth=2, name=\"y_one_hot\")\n",
    "\n",
    "W1 = tf.Variable(tf.random_uniform((n_inputs, n_hidden),-1.0, 1.0, seed=0), name=\"W1\")\n",
    "b1 = tf.Variable(tf.zeros([n_hidden]), name=\"b1\")\n",
    "\n",
    "W2 = tf.Variable(tf.random_uniform((n_hidden, n_outputs),-1.0, 1.0, seed=0), name=\"W2\")\n",
    "b2 = tf.Variable(tf.zeros([n_outputs]), name=\"b2\")\n",
    "\n",
    "Z = tf.nn.sigmoid(tf.add(tf.matmul(X, W1), b1))\n",
    "logits = tf.add(tf.matmul(Z, W2), b2)\n",
    "\n",
    "\n",
    "pred = tf.argmax(logits, axis=1)\n",
    "\n",
    "with tf.name_scope(\"loss\") as scope:\n",
    "    xentropy = tf.nn.sigmoid_cross_entropy_with_logits(labels=y_one_hot, logits=logits)\n",
    "    loss = tf.reduce_mean(xentropy)\n",
    "\n",
    "optimizer = tf.train.AdamOptimizer(learning_rate = learning_rate)\n",
    "training_op = optimizer.minimize(loss)\n",
    "\n",
    "loss_summary = tf.summary.scalar('loss', loss)\n",
    "file_writer = tf.summary.FileWriter(logdir, tf.get_default_graph())\n",
    "\n",
    "saver = tf.train.Saver()                           \n",
    "\n",
    "init = tf.global_variables_initializer()\n",
    "\n",
    "n_samples = len(X_train)\n",
    "def fetch_batch(batch_size, epoch, iteration):\n",
    "    np.random.seed(epoch)\n",
    "    shuffled_indices = np.random.permutation(n_samples)\n",
    "    batch_indices = shuffled_indices[iteration * batch_size:(iteration+1)*batch_size]\n",
    "    return X_train[batch_indices, :], y_train[batch_indices]\n",
    "\n",
    "n_epochs = 3001\n",
    "batch_size = 32\n",
    "with tf.Session() as sess:\n",
    "    sess.run(init)\n",
    "    for epoch in range(n_epochs):\n",
    "        for iteration in range(n_samples // batch_size):\n",
    "            X_batch, y_batch = fetch_batch(batch_size, epoch, iteration)\n",
    "            sess.run(training_op, feed_dict={X: X_batch, y: y_batch})\n",
    "             \n",
    "        if epoch % 100 == 0: \n",
    "            print(\"Epoch\", epoch, \"loss =\", loss.eval(feed_dict={X: X_batch, y: y_batch}))\n",
    "            summary_str = sess.run(loss_summary, feed_dict={X: X_batch, y: y_batch})\n",
    "            file_writer.add_summary(summary_str, epoch)\n",
    "    \n",
    "    save_path = saver.save(sess, \"./models/model_final.ckpt\")\n",
    "file_writer.close()"
   ]
  },
  {
   "cell_type": "code",
   "execution_count": 38,
   "metadata": {},
   "outputs": [
    {
     "name": "stdout",
     "output_type": "stream",
     "text": [
      "INFO:tensorflow:Restoring parameters from ./models/model_final.ckpt\n"
     ]
    },
    {
     "data": {
      "text/plain": [
       "<matplotlib.contour.QuadContourSet at 0x25cce4d1a58>"
      ]
     },
     "execution_count": 38,
     "metadata": {},
     "output_type": "execute_result"
    },
    {
     "data": {
      "image/png": "[encoded data removed]",
      "text/plain": [
       "<Figure size 432x288 with 1 Axes>"
      ]
     },
     "metadata": {},
     "output_type": "display_data"
    }
   ],
   "source": [
    "with tf.Session() as sess:\n",
    "    saver.restore(sess, \"./models/model_final.ckpt\")\n",
    "    x0s = np.linspace(-1.5, 1.5, 1000)\n",
    "    x1s = np.linspace(-1.5, 1.5, 1000)\n",
    "    x0, x1 = np.meshgrid(x0s, x1s)\n",
    "    X_new = np.c_[x0.ravel(), x1.ravel()] \n",
    "    y_pred = sess.run(pred, feed_dict={X: X_new})\n",
    "\n",
    "plot_dataset(X_train, y_train, [-1.5, 1.5, -1.5, 1.5])\n",
    "plt.contourf(x0, x1, y_pred.reshape(1000,1000), cmap=plt.cm.brg, alpha=0.2)  \n"
   ]
  },
  {
   "cell_type": "markdown",
   "metadata": {},
   "source": [
    "### 은닉층의 수"
   ]
  },
  {
   "cell_type": "code",
   "execution_count": 40,
   "metadata": {},
   "outputs": [
    {
     "data": {
      "image/png": "[encoded data removed]",
      "text/plain": [
       "<Figure size 432x288 with 1 Axes>"
      ]
     },
     "metadata": {},
     "output_type": "display_data"
    }
   ],
   "source": [
    "#나선 데이터 \n",
    "def twospirals(n_points, noise=.5):\n",
    "    \"\"\"\n",
    "     Returns the two spirals dataset.\n",
    "    \"\"\"\n",
    "    np.random.seed(10)\n",
    "    n = np.sqrt(np.random.rand(n_points,1)) * 780 * (2*np.pi)/360\n",
    "    d1x = -np.cos(n)*n + np.random.rand(n_points,1) * noise\n",
    "    d1y = np.sin(n)*n + np.random.rand(n_points,1) * noise\n",
    "    return (np.vstack((np.hstack((d1x,d1y)),np.hstack((-d1x,-d1y)))), \n",
    "            np.hstack((np.zeros(n_points),np.ones(n_points))))\n",
    "\n",
    "X_train, y_train = twospirals(300)\n",
    "plot_dataset(X_train, y_train, [-15, 15, -15, 15])\n",
    "plt.show()"
   ]
  },
  {
   "cell_type": "markdown",
   "metadata": {},
   "source": [
    "하나의 은닉층을 사용할 경우"
   ]
  },
  {
   "cell_type": "code",
   "execution_count": 41,
   "metadata": {},
   "outputs": [
    {
     "name": "stdout",
     "output_type": "stream",
     "text": [
      "Epoch 0 accuracy = 0.50166667\n",
      "Epoch 100 accuracy = 0.56666666\n",
      "Epoch 200 accuracy = 0.5733333\n",
      "Epoch 300 accuracy = 0.70166665\n",
      "Epoch 400 accuracy = 0.6616667\n",
      "Epoch 500 accuracy = 0.755\n",
      "Epoch 600 accuracy = 0.83666664\n",
      "Epoch 700 accuracy = 0.925\n",
      "Epoch 800 accuracy = 0.975\n",
      "Epoch 900 accuracy = 0.9683333\n",
      "Epoch 1000 accuracy = 0.99666667\n",
      "Epoch 1100 accuracy = 0.905\n",
      "Epoch 1200 accuracy = 1.0\n"
     ]
    }
   ],
   "source": [
    "root_logdir = 'logs'\n",
    "logdir = '{}/log-{}'.format(root_logdir, 'Adam')\n",
    "\n",
    "reset_graph()\n",
    "\n",
    "n_inputs = 2\n",
    "n_hidden = 32\n",
    "n_outputs =2\n",
    "learning_rate = 0.01\n",
    "\n",
    "\n",
    "X = tf.placeholder(tf.float32, shape=(None, n_inputs), name=\"X\")\n",
    "\n",
    "with tf.name_scope(\"label\") as scope:\n",
    "    y = tf.placeholder(tf.int32, shape=(None), name=\"y\")\n",
    "    y_one_hot = tf.one_hot(y, depth=2, name=\"y_one_hot\")\n",
    "\n",
    "W1 = tf.Variable(tf.random_uniform((n_inputs, n_hidden),-1.0, 1.0, seed=0), name=\"W1\")\n",
    "b1 = tf.Variable(tf.zeros([n_hidden]), name=\"b1\")\n",
    "\n",
    "W2 = tf.Variable(tf.random_uniform((n_hidden, n_outputs),-1.0, 1.0, seed=0), name=\"W2\")\n",
    "b2 = tf.Variable(tf.zeros([n_outputs]), name=\"b2\")\n",
    "\n",
    "Z = tf.nn.relu(tf.add(tf.matmul(X, W1), b1))\n",
    "logits = tf.add(tf.matmul(Z, W2), b2)\n",
    "\n",
    "pred = tf.argmax(logits, axis=1)\n",
    "\n",
    "with tf.name_scope(\"loss\") as scope:\n",
    "    xentropy = tf.nn.sigmoid_cross_entropy_with_logits(labels=y_one_hot, logits=logits)\n",
    "    loss = tf.reduce_mean(xentropy)\n",
    "\n",
    "optimizer = tf.train.AdamOptimizer(learning_rate = learning_rate)\n",
    "training_op = optimizer.minimize(loss)\n",
    "\n",
    "correct = tf.nn.in_top_k(logits, y, 1)\n",
    "accuracy = tf.reduce_mean(tf.cast(correct, tf.float32))\n",
    "\n",
    "\n",
    "loss_summary = tf.summary.scalar('loss', loss)\n",
    "file_writer = tf.summary.FileWriter(logdir, tf.get_default_graph())\n",
    "\n",
    "init = tf.global_variables_initializer()\n",
    "saver = tf.train.Saver(max_to_keep=5)\n",
    "\n",
    "n_samples = len(X_train)\n",
    "def fetch_batch(batch_size, epoch, iteration):\n",
    "    np.random.seed(epoch)\n",
    "    shuffled_indices = np.random.permutation(n_samples)\n",
    "    batch_indices = shuffled_indices[iteration * batch_size:(iteration+1)*batch_size]\n",
    "    return X_train[batch_indices, :], y_train[batch_indices]\n",
    "\n",
    "n_epochs = 3001\n",
    "batch_size = 32\n",
    "with tf.Session() as sess:\n",
    "    sess.run(init)\n",
    "    for epoch in range(n_epochs):\n",
    "        for iteration in range(n_samples // batch_size):\n",
    "            X_batch, y_batch = fetch_batch(batch_size, epoch, iteration)\n",
    "            sess.run(training_op, feed_dict={X: X_batch, y: y_batch})\n",
    "             \n",
    "        if epoch % 100 == 0: \n",
    "            acc = accuracy.eval(feed_dict={X: X_train, y: y_train})\n",
    "            print(\"Epoch\", epoch, \"accuracy =\", acc)\n",
    "            if acc == 1.0:\n",
    "                save_path = saver.save(sess, \"./models/model_final.ckpt\")\n",
    "                break                \n",
    "            \n",
    "            summary_str = sess.run(loss_summary, feed_dict={X: X_batch, y: y_batch})\n",
    "            file_writer.add_summary(summary_str, epoch)\n",
    "        \n",
    "    save_path = saver.save(sess, \"./models/model_final.ckpt\")\n",
    "file_writer.close()"
   ]
  },
  {
   "cell_type": "code",
   "execution_count": 43,
   "metadata": {},
   "outputs": [
    {
     "name": "stdout",
     "output_type": "stream",
     "text": [
      "INFO:tensorflow:Restoring parameters from ./models/model_final.ckpt\n"
     ]
    },
    {
     "data": {
      "text/plain": [
       "<matplotlib.contour.QuadContourSet at 0x25cce239400>"
      ]
     },
     "execution_count": 43,
     "metadata": {},
     "output_type": "execute_result"
    },
    {
     "data": {
      "image/png": "[encoded data removed]",
      "text/plain": [
       "<Figure size 432x288 with 1 Axes>"
      ]
     },
     "metadata": {},
     "output_type": "display_data"
    }
   ],
   "source": [
    "with tf.Session() as sess:\n",
    "    saver.restore(sess, \"./models/model_final.ckpt\")\n",
    "    x0s = np.linspace(-15, 15, 1000)\n",
    "    x1s = np.linspace(-15, 15, 1000)\n",
    "    x0, x1 = np.meshgrid(x0s, x1s)\n",
    "    X_new = np.c_[x0.ravel(), x1.ravel()] \n",
    "    y_pred = sess.run(pred, feed_dict={X: X_new})\n",
    "\n",
    "plot_dataset(X_train, y_train, [-15, 15, -15, 15])\n",
    "plt.contourf(x0, x1, y_pred.reshape(1000,1000), cmap=plt.cm.brg, alpha=0.2)  \n"
   ]
  },
  {
   "cell_type": "markdown",
   "metadata": {},
   "source": [
    "두개의 은닉층을 사용할 경우"
   ]
  },
  {
   "cell_type": "code",
   "execution_count": 44,
   "metadata": {},
   "outputs": [
    {
     "name": "stdout",
     "output_type": "stream",
     "text": [
      "Epoch 0 accuracy = 0.485\n",
      "Epoch 100 accuracy = 0.6166667\n",
      "Epoch 200 accuracy = 0.5783333\n",
      "Epoch 300 accuracy = 0.62\n",
      "Epoch 400 accuracy = 0.68333334\n",
      "Epoch 500 accuracy = 0.785\n",
      "Epoch 600 accuracy = 0.815\n",
      "Epoch 700 accuracy = 0.865\n",
      "Epoch 800 accuracy = 0.895\n",
      "Epoch 900 accuracy = 0.89166665\n",
      "Epoch 1000 accuracy = 0.9683333\n",
      "Epoch 1100 accuracy = 0.99666667\n",
      "Epoch 1200 accuracy = 1.0\n"
     ]
    }
   ],
   "source": [
    "root_logdir = 'logs'\n",
    "logdir = '{}/log-{}'.format(root_logdir, 'Adam')\n",
    "\n",
    "reset_graph()\n",
    "\n",
    "n_inputs = 2\n",
    "n_hidden1 = 7\n",
    "n_hidden2 = 6\n",
    "n_outputs =2\n",
    "\n",
    "learning_rate = 0.01\n",
    "\n",
    "X = tf.placeholder(tf.float32, shape=(None, n_inputs), name=\"X\")\n",
    "\n",
    "with tf.name_scope(\"label\") as scope:\n",
    "    y = tf.placeholder(tf.int32, shape=(None), name=\"y\")\n",
    "    y_one_hot = tf.one_hot(y, depth=2, name=\"y_one_hot\")\n",
    "\n",
    "W1 = tf.Variable(tf.random_uniform((n_inputs, n_hidden1),-1.0, 1.0, seed=0), name=\"W1\")\n",
    "b1 = tf.Variable(tf.zeros([n_hidden1]), name=\"b1\")\n",
    "\n",
    "W2 = tf.Variable(tf.random_uniform((n_hidden1, n_hidden2),-1.0, 1.0, seed=0), name=\"W2\")\n",
    "b2 = tf.Variable(tf.zeros([n_hidden2]), name=\"b2\")\n",
    "\n",
    "W3 = tf.Variable(tf.random_uniform((n_hidden2, n_outputs),-1.0, 1.0, seed=0), name=\"W3\")\n",
    "b3 = tf.Variable(tf.zeros([n_outputs]), name=\"b3\")\n",
    "\n",
    "Z1 = tf.nn.sigmoid(tf.add(tf.matmul(X, W1), b1))\n",
    "Z2 = tf.nn.sigmoid(tf.add(tf.matmul(Z1, W2), b2))\n",
    "logits = tf.add(tf.matmul(Z2, W3), b3)\n",
    "\n",
    "pred = tf.argmax(logits, axis=1)\n",
    "\n",
    "with tf.name_scope(\"loss\") as scope:\n",
    "    xentropy = tf.nn.sigmoid_cross_entropy_with_logits(labels=y_one_hot, logits=logits)\n",
    "    loss = tf.reduce_mean(xentropy)\n",
    "\n",
    "optimizer = tf.train.AdamOptimizer(learning_rate = learning_rate)\n",
    "training_op = optimizer.minimize(loss)\n",
    "\n",
    "correct = tf.nn.in_top_k(logits, y, 1)\n",
    "accuracy = tf.reduce_mean(tf.cast(correct, tf.float32))\n",
    "\n",
    "\n",
    "loss_summary = tf.summary.scalar('loss', loss)\n",
    "file_writer = tf.summary.FileWriter(logdir, tf.get_default_graph())\n",
    "\n",
    "init = tf.global_variables_initializer()\n",
    "saver = tf.train.Saver(max_to_keep=5)\n",
    "\n",
    "n_samples = len(X_train)\n",
    "def fetch_batch(batch_size, epoch, iteration):\n",
    "    np.random.seed(epoch)\n",
    "    shuffled_indices = np.random.permutation(n_samples)\n",
    "    batch_indices = shuffled_indices[iteration * batch_size:(iteration+1)*batch_size]\n",
    "    return X_train[batch_indices, :], y_train[batch_indices]\n",
    "\n",
    "n_epochs = 3001\n",
    "batch_size = 32\n",
    "with tf.Session() as sess:\n",
    "    sess.run(init)\n",
    "    for epoch in range(n_epochs):\n",
    "        for iteration in range(n_samples // batch_size):\n",
    "            X_batch, y_batch = fetch_batch(batch_size, epoch, iteration)\n",
    "            sess.run(training_op, feed_dict={X: X_batch, y: y_batch})\n",
    "             \n",
    "        if epoch % 100 == 0: \n",
    "            acc = accuracy.eval(feed_dict={X: X_train, y: y_train})\n",
    "            print(\"Epoch\", epoch, \"accuracy =\", acc)\n",
    "            if acc == 1.0:\n",
    "                save_path = saver.save(sess, \"./models/model_final.ckpt\")\n",
    "                break\n",
    "        \n",
    "    save_path = saver.save(sess, \"./models/model_final.ckpt\")\n",
    "file_writer.close()"
   ]
  },
  {
   "cell_type": "code",
   "execution_count": 45,
   "metadata": {},
   "outputs": [
    {
     "name": "stdout",
     "output_type": "stream",
     "text": [
      "INFO:tensorflow:Restoring parameters from ./models/model_final.ckpt\n"
     ]
    },
    {
     "data": {
      "text/plain": [
       "<matplotlib.contour.QuadContourSet at 0x25cce1899b0>"
      ]
     },
     "execution_count": 45,
     "metadata": {},
     "output_type": "execute_result"
    },
    {
     "data": {
      "image/png": "[encoded data removed]",
      "text/plain": [
       "<Figure size 432x288 with 1 Axes>"
      ]
     },
     "metadata": {},
     "output_type": "display_data"
    }
   ],
   "source": [
    "with tf.Session() as sess:\n",
    "    saver.restore(sess, \"./models/model_final.ckpt\")\n",
    "    x0s = np.linspace(-15, 15, 1000)\n",
    "    x1s = np.linspace(-15, 15, 1000)\n",
    "    x0, x1 = np.meshgrid(x0s, x1s)\n",
    "    X_new = np.c_[x0.ravel(), x1.ravel()] \n",
    "    y_pred = sess.run(pred, feed_dict={X: X_new})\n",
    "\n",
    "plot_dataset(X_train, y_train, [-15, 15, -15, 15])\n",
    "plt.contourf(x0, x1, y_pred.reshape(1000,1000), cmap=plt.cm.brg, alpha=0.2)  \n"
   ]
  },
  {
   "cell_type": "code",
   "execution_count": null,
   "metadata": {},
   "outputs": [],
   "source": []
  }
 ],
 "metadata": {
  "kernelspec": {
   "display_name": "Python 3",
   "language": "python",
   "name": "python3"
  },
  "language_info": {
   "codemirror_mode": {
    "name": "ipython",
    "version": 3
   },
   "file_extension": ".py",
   "mimetype": "text/x-python",
   "name": "python",
   "nbconvert_exporter": "python",
   "pygments_lexer": "ipython3",
   "version": "3.6.3"
  }
 },
 "nbformat": 4,
 "nbformat_minor": 2
}
