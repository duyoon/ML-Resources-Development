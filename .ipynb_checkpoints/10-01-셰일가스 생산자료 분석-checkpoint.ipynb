{
 "cells": [
  {
   "cell_type": "code",
   "execution_count": 1,
   "metadata": {
    "collapsed": true
   },
   "outputs": [],
   "source": [
    "import numpy as np\n",
    "import tensorflow as tf\n",
    "import pandas as pd\n",
    "\n",
    "\n",
    "%matplotlib inline\n",
    "import matplotlib\n",
    "import matplotlib.pyplot as plt"
   ]
  },
  {
   "cell_type": "code",
   "execution_count": 2,
   "metadata": {
    "collapsed": true
   },
   "outputs": [],
   "source": [
    "seed=10\n",
    "def reset_graph():\n",
    "    tf.reset_default_graph()\n",
    "    tf.set_random_seed(seed)\n",
    "    np.random.seed(seed)\n"
   ]
  },
  {
   "cell_type": "code",
   "execution_count": 3,
   "metadata": {
    "scrolled": true
   },
   "outputs": [
    {
     "data": {
      "text/html": [
       "<div>\n",
       "<style>\n",
       "    .dataframe thead tr:only-child th {\n",
       "        text-align: right;\n",
       "    }\n",
       "\n",
       "    .dataframe thead th {\n",
       "        text-align: left;\n",
       "    }\n",
       "\n",
       "    .dataframe tbody tr th {\n",
       "        vertical-align: top;\n",
       "    }\n",
       "</style>\n",
       "<table border=\"1\" class=\"dataframe\">\n",
       "  <thead>\n",
       "    <tr style=\"text-align: right;\">\n",
       "      <th></th>\n",
       "      <th>Well_ID</th>\n",
       "      <th>X</th>\n",
       "      <th>Y</th>\n",
       "      <th>TVD</th>\n",
       "      <th>CompLength</th>\n",
       "      <th>FracStage</th>\n",
       "      <th>TotalPropPlaced</th>\n",
       "      <th>qi</th>\n",
       "      <th>b</th>\n",
       "      <th>D</th>\n",
       "      <th>CumProd</th>\n",
       "    </tr>\n",
       "  </thead>\n",
       "  <tbody>\n",
       "    <tr>\n",
       "      <th>0</th>\n",
       "      <td>1</td>\n",
       "      <td>-560.508644</td>\n",
       "      <td>351.142295</td>\n",
       "      <td>3573.0</td>\n",
       "      <td>1173.0</td>\n",
       "      <td>11</td>\n",
       "      <td>1225.100002</td>\n",
       "      <td>2131.759129</td>\n",
       "      <td>1.601106</td>\n",
       "      <td>1.047887</td>\n",
       "      <td>26290.048707</td>\n",
       "    </tr>\n",
       "    <tr>\n",
       "      <th>1</th>\n",
       "      <td>2</td>\n",
       "      <td>-517.735644</td>\n",
       "      <td>403.380295</td>\n",
       "      <td>3534.2</td>\n",
       "      <td>1103.5</td>\n",
       "      <td>12</td>\n",
       "      <td>1088.530019</td>\n",
       "      <td>1202.730372</td>\n",
       "      <td>1.668195</td>\n",
       "      <td>0.564643</td>\n",
       "      <td>21994.549200</td>\n",
       "    </tr>\n",
       "    <tr>\n",
       "      <th>2</th>\n",
       "      <td>3</td>\n",
       "      <td>-460.299644</td>\n",
       "      <td>375.845295</td>\n",
       "      <td>3562.0</td>\n",
       "      <td>1056.0</td>\n",
       "      <td>8</td>\n",
       "      <td>823.029999</td>\n",
       "      <td>1192.138061</td>\n",
       "      <td>1.472837</td>\n",
       "      <td>0.215471</td>\n",
       "      <td>33662.097284</td>\n",
       "    </tr>\n",
       "    <tr>\n",
       "      <th>3</th>\n",
       "      <td>4</td>\n",
       "      <td>-391.097644</td>\n",
       "      <td>377.597295</td>\n",
       "      <td>3402.0</td>\n",
       "      <td>2081.5</td>\n",
       "      <td>19</td>\n",
       "      <td>3107.400011</td>\n",
       "      <td>7257.215263</td>\n",
       "      <td>1.520000</td>\n",
       "      <td>0.200000</td>\n",
       "      <td>241380.762966</td>\n",
       "    </tr>\n",
       "    <tr>\n",
       "      <th>4</th>\n",
       "      <td>5</td>\n",
       "      <td>-389.422644</td>\n",
       "      <td>400.967295</td>\n",
       "      <td>3637.0</td>\n",
       "      <td>1617.5</td>\n",
       "      <td>17</td>\n",
       "      <td>2391.350006</td>\n",
       "      <td>2498.639839</td>\n",
       "      <td>2.000000</td>\n",
       "      <td>0.673566</td>\n",
       "      <td>59391.723657</td>\n",
       "    </tr>\n",
       "  </tbody>\n",
       "</table>\n",
       "</div>"
      ],
      "text/plain": [
       "   Well_ID           X           Y     TVD  CompLength  FracStage  \\\n",
       "0        1 -560.508644  351.142295  3573.0      1173.0         11   \n",
       "1        2 -517.735644  403.380295  3534.2      1103.5         12   \n",
       "2        3 -460.299644  375.845295  3562.0      1056.0          8   \n",
       "3        4 -391.097644  377.597295  3402.0      2081.5         19   \n",
       "4        5 -389.422644  400.967295  3637.0      1617.5         17   \n",
       "\n",
       "   TotalPropPlaced           qi         b         D        CumProd  \n",
       "0      1225.100002  2131.759129  1.601106  1.047887   26290.048707  \n",
       "1      1088.530019  1202.730372  1.668195  0.564643   21994.549200  \n",
       "2       823.029999  1192.138061  1.472837  0.215471   33662.097284  \n",
       "3      3107.400011  7257.215263  1.520000  0.200000  241380.762966  \n",
       "4      2391.350006  2498.639839  2.000000  0.673566   59391.723657  "
      ]
     },
     "execution_count": 3,
     "metadata": {},
     "output_type": "execute_result"
    }
   ],
   "source": [
    "df = pd.read_csv('./ShaleGasData.csv', header=0)\n",
    "df.head()"
   ]
  },
  {
   "cell_type": "code",
   "execution_count": 4,
   "metadata": {
    "collapsed": true,
    "scrolled": true
   },
   "outputs": [],
   "source": [
    "from sklearn.model_selection import train_test_split\n",
    "train_set, test_set = train_test_split(df, test_size = 0.15, random_state=seed)\n",
    "train_set, val_set = train_test_split(train_set, test_size = 0.15, random_state=seed)"
   ]
  },
  {
   "cell_type": "code",
   "execution_count": 5,
   "metadata": {
    "collapsed": true
   },
   "outputs": [],
   "source": [
    "X_attributes = ['X','Y','TVD','CompLength','FracStage','TotalPropPlaced']\n",
    "y_attributes = ['qi']\n",
    "\n",
    "X_train = train_set[X_attributes].values\n",
    "y_train = train_set[y_attributes].values\n",
    "\n",
    "X_val = val_set[X_attributes].values\n",
    "y_val = val_set[y_attributes].values\n",
    "\n",
    "X_test = test_set[X_attributes].values\n",
    "y_test = test_set[y_attributes].values"
   ]
  },
  {
   "cell_type": "code",
   "execution_count": 6,
   "metadata": {
    "collapsed": true,
    "scrolled": true
   },
   "outputs": [],
   "source": [
    "from sklearn.preprocessing import MinMaxScaler\n",
    "\n",
    "X_scaler =MinMaxScaler()\n",
    "y_scaler =MinMaxScaler()\n",
    "\n",
    "X_train_scaled = X_scaler.fit_transform(X_train) \n",
    "y_train_scaled = y_scaler.fit_transform(y_train) \n",
    "\n",
    "X_val_scaled = X_scaler.transform(X_val)\n",
    "y_val_scaled = y_scaler.transform(y_val)\n",
    "\n",
    "X_test_scaled = X_scaler.transform(X_test)\n",
    "y_test_scaled = y_scaler.transform(y_test)"
   ]
  },
  {
   "cell_type": "code",
   "execution_count": 7,
   "metadata": {
    "collapsed": true
   },
   "outputs": [],
   "source": [
    "class EarlyStopping():\n",
    "    def __init__(self, patience=0, verbose=0):\n",
    "        self._step = 0\n",
    "        self._loss = float('inf')\n",
    "        self.patience = patience\n",
    "        self.verbose = verbose\n",
    "\n",
    "    def check(self, loss):\n",
    "        if self._loss < loss:\n",
    "            self._step += 1\n",
    "            if self._step > self.patience:\n",
    "                if self.verbose:\n",
    "                    print('Stop.... Condition for early stopping is satisfied!')\n",
    "                return 1\n",
    "            return 0\n",
    "        else:\n",
    "            self._step = 0\n",
    "            self._loss = loss\n",
    "            return 2\n",
    "\n"
   ]
  },
  {
   "cell_type": "code",
   "execution_count": 9,
   "metadata": {
    "collapsed": true
   },
   "outputs": [],
   "source": [
    "n_inputs = 6 \n",
    "n_hidden1 = 30\n",
    "n_hidden2 = 20\n",
    "n_hidden3 = 10\n",
    "n_outputs = 1\n",
    "\n",
    "\n",
    "learning_rate=0.003\n",
    "\n",
    "from datetime import datetime\n",
    "now = datetime.utcnow().strftime(\"%d%H%M%S\")\n",
    "root_logdir = 'logs'\n",
    "ckpt_name = '{}-{}-{}-{}'.format(n_hidden1, n_hidden2, n_hidden3, 'relu')\n",
    "train_logdir = '{}/train-{}-{}'.format(root_logdir, ckpt_name, now)\n",
    "val_logdir = '{}/val-{}-{}'.format(root_logdir, ckpt_name, now)\n",
    "\n",
    "reset_graph()\n",
    "\n",
    "\n",
    "X = tf.placeholder(tf.float32, shape=[None, n_inputs])\n",
    "y = tf.placeholder(tf.float32, shape=[None, n_outputs])\n",
    "\n",
    "## dense()는 디폴트로 Xavier initialization 적용\n",
    "## He Initialization을 적용\n",
    "# he_init = tf.contrib.layers.variance_scaling_initializer()   \n",
    "# hidden1 = tf.layers.dense(X, n_hidden1, kernel_initializer=he_init, activation=tf.nn.relu)\n",
    " \n",
    "\n",
    "hidden1 = tf.layers.dense(X, n_hidden1, activation=tf.nn.relu)\n",
    "hidden2 = tf.layers.dense(hidden1, n_hidden2, activation=tf.nn.relu)\n",
    "hidden3 = tf.layers.dense(hidden2, n_hidden3, activation=tf.nn.relu)\n",
    "logits = tf.layers.dense(hidden3, n_outputs) \n",
    "\n",
    "loss = tf.losses.mean_squared_error(y, logits)\n",
    "\n",
    "optimizer = tf.train.AdamOptimizer(learning_rate)\n",
    "training_op = optimizer.minimize(loss)\n",
    "\n",
    "loss_summary = tf.summary.scalar('loss', loss)\n",
    "train_file_writer = tf.summary.FileWriter(train_logdir, tf.get_default_graph())\n",
    "val_file_writer = tf.summary.FileWriter(val_logdir, tf.get_default_graph())\n",
    "\n",
    "saver = tf.train.Saver(max_to_keep=1)"
   ]
  },
  {
   "cell_type": "code",
   "execution_count": 10,
   "metadata": {
    "collapsed": true
   },
   "outputs": [],
   "source": [
    "n_samples = len(X_train)\n",
    "\n",
    "def fetch_batch(batch_size, epoch, iteration):\n",
    "    np.random.seed(epoch)\n",
    "    shuffled_indices = np.random.permutation(n_samples)\n",
    "    batch_indices = shuffled_indices[iteration * batch_size:(iteration+1)*batch_size]\n",
    "    return X_train_scaled[batch_indices, :], y_train_scaled[batch_indices]"
   ]
  },
  {
   "cell_type": "code",
   "execution_count": 11,
   "metadata": {},
   "outputs": [
    {
     "name": "stdout",
     "output_type": "stream",
     "text": [
      "Epoch 0 train loss = 0.0237883  val loss = 0.0314369\n",
      "Epoch 100 train loss = 0.00434726  val loss = 0.00846521\n",
      "Epoch 200 train loss = 0.00370991  val loss = 0.00732674\n",
      "Epoch 300 train loss = 0.00153092  val loss = 0.00930012\n",
      "Epoch 400 train loss = 0.0012434  val loss = 0.00977344\n",
      "Stop.... Condition for early stopping is satisfied!\n"
     ]
    }
   ],
   "source": [
    "early_stopping = EarlyStopping(patience = 200, verbose=1)\n",
    "\n",
    "n_epochs = 2000\n",
    "batch_size = 15\n",
    "\n",
    "init = tf.global_variables_initializer()\n",
    "\n",
    "lowest_loss = np.float32('inf')\n",
    "with tf.Session() as sess:\n",
    "    sess.run(init)\n",
    "    for epoch in range(n_epochs):\n",
    "        for iteration in range(n_samples // batch_size):\n",
    "            X_batch, y_batch = fetch_batch(batch_size, epoch, iteration)\n",
    "            sess.run(training_op, feed_dict={X: X_batch, y: y_batch})\n",
    "             \n",
    "                 \n",
    "        train_loss, train_summary = sess.run([loss, loss_summary], feed_dict={X: X_batch, y: y_batch})\n",
    "        val_loss, val_summary = sess.run([loss, loss_summary], feed_dict={X: X_val_scaled, y: y_val_scaled})\n",
    "            \n",
    "        if val_loss < lowest_loss:\n",
    "            save_path = saver.save(sess, \"./models/best_model.ckpt\")\n",
    "            lowest_loss = val_loss\n",
    "        if epoch % 100 == 0: \n",
    "            print(\"Epoch\", epoch, \"train loss =\", train_loss,\" val loss =\", val_loss)    \n",
    "            train_file_writer.add_summary(train_summary, epoch)\n",
    "            val_file_writer.add_summary(val_summary, epoch)\n",
    "        \n",
    "        if early_stopping.check(val_loss) == 1:\n",
    "            break"
   ]
  },
  {
   "cell_type": "markdown",
   "metadata": {},
   "source": [
    "# 학습 결과 확인"
   ]
  },
  {
   "cell_type": "code",
   "execution_count": 12,
   "metadata": {},
   "outputs": [
    {
     "name": "stdout",
     "output_type": "stream",
     "text": [
      "INFO:tensorflow:Restoring parameters from ./models/best_model.ckpt\n"
     ]
    }
   ],
   "source": [
    "with tf.Session() as sess:\n",
    "    saver.restore(sess, \"./models/best_model.ckpt\")\n",
    "    y_train_pred = logits.eval(feed_dict={X: X_train_scaled})\n",
    "    y_val_pred = logits.eval(feed_dict={X: X_val_scaled})   \n",
    "    y_test_pred = logits.eval(feed_dict={X: X_test_scaled})"
   ]
  },
  {
   "cell_type": "code",
   "execution_count": 28,
   "metadata": {},
   "outputs": [
    {
     "data": {
      "image/png": "[encoded data removed]",
      "text/plain": [
       "<matplotlib.figure.Figure at 0x15c37e032e8>"
      ]
     },
     "metadata": {},
     "output_type": "display_data"
    }
   ],
   "source": [
    "from sklearn.metrics import r2_score\n",
    "def plot_correlation(t, p, title):    \n",
    "    plt.scatter(t, p ,color='blue')\n",
    "    plt.text(0.1,0.75,'Variance score = %.2f'% r2_score(t, p),fontsize = 14)\n",
    "    plt.plot([0,1],[0,1])\n",
    "    plt.xlabel('True',fontsize = 14)\n",
    "    plt.ylabel('Prediction',fontsize = 14)\n",
    "    plt.gca().set_aspect('equal')\n",
    "    plt.xlim([0,1])\n",
    "    plt.ylim([0,1])\n",
    "    plt.title(title, fontsize=14)\n",
    "    \n",
    "plt.figure(figsize=(20,10))\n",
    "plt.subplot(131)\n",
    "plot_correlation(y_train_scaled, y_train_pred, 'train set')\n",
    "plt.subplot(132)\n",
    "plot_correlation(y_val_scaled, y_val_pred, 'validation set')\n",
    "plt.subplot(133)\n",
    "plot_correlation(y_test_scaled, y_test_pred, 'test set')"
   ]
  },
  {
   "cell_type": "markdown",
   "metadata": {},
   "source": [
    "# 스케일링 된 레이블 재변환"
   ]
  },
  {
   "cell_type": "code",
   "execution_count": 29,
   "metadata": {
    "collapsed": true
   },
   "outputs": [],
   "source": [
    "y_train_inversed = y_scaler.inverse_transform(y_train_scaled)\n",
    "y_train_pred_inversed = y_scaler.inverse_transform(y_train_pred)\n",
    "\n",
    "y_val_inversed = y_scaler.inverse_transform(y_val_scaled)\n",
    "y_val_pred_inversed = y_scaler.inverse_transform(y_val_pred)\n",
    "\n",
    "y_test_inversed = y_scaler.inverse_transform(y_test_scaled)\n",
    "y_test_pred_inversed = y_scaler.inverse_transform(y_test_pred)"
   ]
  },
  {
   "cell_type": "code",
   "execution_count": 33,
   "metadata": {},
   "outputs": [
    {
     "name": "stdout",
     "output_type": "stream",
     "text": [
      "Train Variance score :     0.95\n",
      "Validation Variance score: 0.77\n",
      "Test Variance score:       0.93\n"
     ]
    }
   ],
   "source": [
    "print('Train Variance score :     %.2f' % r2_score(y_train_inversed, y_train_pred_inversed))\n",
    "print('Validation Variance score: %.2f' % r2_score(y_val_inversed, y_val_pred_inversed))\n",
    "print('Test Variance score:       %.2f' % r2_score(y_test_inversed, y_test_pred_inversed))"
   ]
  },
  {
   "cell_type": "code",
   "execution_count": null,
   "metadata": {
    "collapsed": true
   },
   "outputs": [],
   "source": []
  }
 ],
 "metadata": {
  "kernelspec": {
   "display_name": "Python 3",
   "language": "python",
   "name": "python3"
  },
  "language_info": {
   "codemirror_mode": {
    "name": "ipython",
    "version": 3
   },
   "file_extension": ".py",
   "mimetype": "text/x-python",
   "name": "python",
   "nbconvert_exporter": "python",
   "pygments_lexer": "ipython3",
   "version": "3.6.3"
  }
 },
 "nbformat": 4,
 "nbformat_minor": 2
}
