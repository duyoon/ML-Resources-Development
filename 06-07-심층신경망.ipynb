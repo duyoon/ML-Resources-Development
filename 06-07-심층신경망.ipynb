{
 "cells": [
  {
   "cell_type": "markdown",
   "metadata": {},
   "source": [
    "# CHAPTER 06 머신러닝, 딥러닝 기초 이론\n",
    "\n",
    "## 7. 심층 신경망"
   ]
  },
  {
   "cell_type": "code",
   "execution_count": 1,
   "metadata": {},
   "outputs": [
    {
     "name": "stderr",
     "output_type": "stream",
     "text": [
      "C:\\Users\\Daeung\\Anaconda3\\lib\\site-packages\\h5py\\__init__.py:34: FutureWarning: Conversion of the second argument of issubdtype from `float` to `np.floating` is deprecated. In future, it will be treated as `np.float64 == np.dtype(float).type`.\n",
      "  from ._conv import register_converters as _register_converters\n"
     ]
    }
   ],
   "source": [
    "import numpy as np\n",
    "import os\n",
    "import tensorflow as tf\n",
    "\n",
    "def reset_graph(seed=42):\n",
    "    tf.reset_default_graph()\n",
    "    tf.set_random_seed(seed)\n",
    "    np.random.seed(seed)\n",
    "\n",
    "%matplotlib inline\n",
    "import matplotlib\n",
    "import matplotlib.pyplot as plt"
   ]
  },
  {
   "cell_type": "markdown",
   "metadata": {},
   "source": [
    "### 7.1 MNIST"
   ]
  },
  {
   "cell_type": "code",
   "execution_count": 2,
   "metadata": {},
   "outputs": [
    {
     "name": "stdout",
     "output_type": "stream",
     "text": [
      "Successfully downloaded train-images-idx3-ubyte.gz 9912422 bytes.\n",
      "Extracting /tmp/data/train-images-idx3-ubyte.gz\n",
      "Successfully downloaded train-labels-idx1-ubyte.gz 28881 bytes.\n",
      "Extracting /tmp/data/train-labels-idx1-ubyte.gz\n",
      "Successfully downloaded t10k-images-idx3-ubyte.gz 1648877 bytes.\n",
      "Extracting /tmp/data/t10k-images-idx3-ubyte.gz\n",
      "Successfully downloaded t10k-labels-idx1-ubyte.gz 4542 bytes.\n",
      "Extracting /tmp/data/t10k-labels-idx1-ubyte.gz\n"
     ]
    }
   ],
   "source": [
    "from tensorflow.examples.tutorials.mnist import input_data\n",
    "\n",
    "mnist = input_data.read_data_sets(\"/tmp/data/\")\n",
    "\n",
    "X_train = mnist.train.images\n",
    "X_val = mnist.validation.images\n",
    "X_test = mnist.test.images\n",
    "y_train = mnist.train.labels.astype(\"int\")\n",
    "y_val = mnist.validation.labels.astype(\"int\")\n",
    "y_test = mnist.test.labels.astype(\"int\")"
   ]
  },
  {
   "cell_type": "code",
   "execution_count": 3,
   "metadata": {},
   "outputs": [
    {
     "name": "stdout",
     "output_type": "stream",
     "text": [
      "(55000, 784) (5000, 784) (10000, 784)\n",
      "(55000,) (5000,) (10000,)\n"
     ]
    }
   ],
   "source": [
    "print(X_train.shape, X_val.shape, X_test.shape) \n",
    "print(y_train.shape, y_val.shape, y_test.shape) "
   ]
  },
  {
   "cell_type": "code",
   "execution_count": 4,
   "metadata": {},
   "outputs": [
    {
     "data": {
      "image/png": "[encoded data removed]",
      "text/plain": [
       "<Figure size 432x288 with 1 Axes>"
      ]
     },
     "metadata": {},
     "output_type": "display_data"
    }
   ],
   "source": [
    "plt.imshow(X_train[22000].reshape(28, 28), \n",
    "           cmap = matplotlib.cm.binary)\n",
    "plt.title(\"Label = {}\".format(y_train[22000]))\n",
    "plt.show()"
   ]
  },
  {
   "cell_type": "code",
   "execution_count": 5,
   "metadata": {},
   "outputs": [
    {
     "data": {
      "text/plain": [
       "(0.0, 1.0)"
      ]
     },
     "execution_count": 5,
     "metadata": {},
     "output_type": "execute_result"
    }
   ],
   "source": [
    "np.min(X_train), np.max(X_train)"
   ]
  },
  {
   "cell_type": "markdown",
   "metadata": {},
   "source": [
    "### 7.2 2개의 은닉층과 시그모이드 활성함수를 이용한 신경망 구현"
   ]
  },
  {
   "cell_type": "code",
   "execution_count": 8,
   "metadata": {},
   "outputs": [
    {
     "name": "stdout",
     "output_type": "stream",
     "text": [
      "0 Train accuracy: 0.53125 Val accuracy: 0.7074\n",
      "1 Train accuracy: 0.65625 Val accuracy: 0.795\n",
      "2 Train accuracy: 0.8125 Val accuracy: 0.8288\n",
      "3 Train accuracy: 0.84375 Val accuracy: 0.8476\n",
      "4 Train accuracy: 0.875 Val accuracy: 0.864\n",
      "5 Train accuracy: 0.96875 Val accuracy: 0.875\n",
      "6 Train accuracy: 0.84375 Val accuracy: 0.88\n",
      "7 Train accuracy: 0.90625 Val accuracy: 0.8876\n",
      "8 Train accuracy: 0.875 Val accuracy: 0.89\n",
      "9 Train accuracy: 0.875 Val accuracy: 0.8958\n"
     ]
    }
   ],
   "source": [
    "reset_graph()\n",
    "\n",
    "n_inputs = 28*28 \n",
    "n_hidden1 = 300\n",
    "n_hidden2 = 100\n",
    "n_outputs = 10\n",
    "\n",
    "X = tf.placeholder(tf.float32, shape=(None, n_inputs), name=\"X\")\n",
    "y = tf.placeholder(tf.int64, shape=(None), name=\"y\")\n",
    "\n",
    "W1 = tf.Variable(tf.random_uniform((n_inputs, n_hidden1),-1.0, 1.0, seed=0), name=\"weights1\")\n",
    "b1 = tf.Variable(tf.zeros([n_hidden1]), name=\"bias1\")\n",
    "Z1 = tf.add(tf.matmul(X, W1), b1, name=\"z1\")\n",
    "sig1= tf.nn.sigmoid(Z1)\n",
    "\n",
    "W2 = tf.Variable(tf.random_uniform((n_hidden1, n_hidden2),-1.0, 1.0, seed=0), name=\"weights2\")\n",
    "b2 = tf.Variable(tf.zeros([n_hidden2]), name=\"bias2\")\n",
    "Z2 = tf.add(tf.matmul(sig1, W2), b2, name=\"z2\")\n",
    "sig2= tf.nn.sigmoid(Z2)\n",
    "\n",
    "W3 = tf.Variable(tf.random_uniform((n_hidden2, n_outputs),-1.0, 1.0, seed=0), name=\"weights3\")\n",
    "b3 = tf.Variable(tf.zeros([n_outputs]), name=\"bias2\")\n",
    "logits = tf.add(tf.matmul(sig2, W3), b3, name=\"logit\")\n",
    "\n",
    "xentropy = tf.nn.sparse_softmax_cross_entropy_with_logits(labels=y, logits=logits)\n",
    "loss = tf.reduce_mean(xentropy, name=\"loss\")\n",
    "\n",
    "learning_rate = 0.01\n",
    "\n",
    "optimizer = tf.train.GradientDescentOptimizer(learning_rate)\n",
    "training_op = optimizer.minimize(loss)\n",
    "\n",
    "correct = tf.nn.in_top_k(logits, y, 1)\n",
    "accuracy = tf.reduce_mean(tf.cast(correct, tf.float32))\n",
    "saver = tf.train.Saver()\n",
    "\n",
    "init = tf.global_variables_initializer()\n",
    "\n",
    "n_epochs = 10\n",
    "batch_size = 32\n",
    "\n",
    "with tf.Session() as sess:\n",
    "    init.run()\n",
    "    for epoch in range(n_epochs):\n",
    "        for iteration in range(mnist.train.num_examples // batch_size):\n",
    "            \n",
    "            X_batch, y_batch = mnist.train.next_batch(batch_size)\n",
    "            sess.run(training_op, feed_dict={X: X_batch, y: y_batch})\n",
    "            \n",
    "        acc_train = accuracy.eval(feed_dict={X: X_batch, y: y_batch})\n",
    "        acc_val = accuracy.eval(feed_dict={X: X_val, y: y_val})\n",
    "        print(epoch, \"Train accuracy:\", acc_train, \"Val accuracy:\", acc_val)\n",
    "\n",
    "    save_path = saver.save(sess, \"./models/model_final.ckpt\")"
   ]
  },
  {
   "cell_type": "markdown",
   "metadata": {},
   "source": [
    "### 7.4 활성함수"
   ]
  },
  {
   "cell_type": "code",
   "execution_count": 10,
   "metadata": {},
   "outputs": [
    {
     "name": "stdout",
     "output_type": "stream",
     "text": [
      "0 Train accuracy: 0.9375 Val accuracy: 0.8868\n",
      "1 Train accuracy: 1.0 Val accuracy: 0.9058\n",
      "2 Train accuracy: 1.0 Val accuracy: 0.9118\n",
      "3 Train accuracy: 0.96875 Val accuracy: 0.911\n",
      "4 Train accuracy: 1.0 Val accuracy: 0.9268\n",
      "5 Train accuracy: 1.0 Val accuracy: 0.9264\n",
      "6 Train accuracy: 0.90625 Val accuracy: 0.9248\n",
      "7 Train accuracy: 0.875 Val accuracy: 0.924\n",
      "8 Train accuracy: 0.96875 Val accuracy: 0.934\n",
      "9 Train accuracy: 0.96875 Val accuracy: 0.9356\n"
     ]
    }
   ],
   "source": [
    "reset_graph()\n",
    "\n",
    "n_inputs = 28*28 \n",
    "n_hidden1 = 300\n",
    "n_hidden2 = 100\n",
    "n_outputs = 10\n",
    "\n",
    "X = tf.placeholder(tf.float32, shape=(None, n_inputs), name=\"X\")\n",
    "y = tf.placeholder(tf.int64, shape=(None), name=\"y\")\n",
    "\n",
    "W1 = tf.Variable(tf.random_uniform((n_inputs, n_hidden1),-1.0, 1.0, seed=0), name=\"weights1\")\n",
    "b1 = tf.Variable(tf.zeros([n_hidden1]), name=\"bias1\")\n",
    "Z1 = tf.add(tf.matmul(X, W1), b1, name=\"z1\")\n",
    "leaky_relu1= tf.nn.leaky_relu(Z1)                                #변경된 부분\n",
    "\n",
    "W2 = tf.Variable(tf.random_uniform((n_hidden1, n_hidden2),-1.0, 1.0, seed=0), name=\"weights2\")\n",
    "b2 = tf.Variable(tf.zeros([n_hidden2]), name=\"bias2\")\n",
    "Z2 = tf.add(tf.matmul(leaky_relu1, W2), b2, name=\"z2\")                 #변경된 부분\n",
    "leaky_relu2= tf.nn.leaky_relu(Z2)                                #변경된 부분\n",
    "\n",
    "W3 = tf.Variable(tf.random_uniform((n_hidden2, n_outputs),-1.0, 1.0, seed=0), name=\"weights3\")\n",
    "b3 = tf.Variable(tf.zeros([n_outputs]), name=\"bias2\")\n",
    "logits = tf.add(tf.matmul(leaky_relu2, W3), b3, name=\"logit\")    #변경된 부분\n",
    "\n",
    "xentropy = tf.nn.sparse_softmax_cross_entropy_with_logits(labels=y, logits=logits)\n",
    "loss = tf.reduce_mean(xentropy, name=\"loss\")\n",
    "\n",
    "learning_rate = 0.01\n",
    "\n",
    "optimizer = tf.train.GradientDescentOptimizer(learning_rate)\n",
    "training_op = optimizer.minimize(loss)\n",
    "\n",
    "correct = tf.nn.in_top_k(logits, y, 1)\n",
    "accuracy = tf.reduce_mean(tf.cast(correct, tf.float32))\n",
    "saver = tf.train.Saver()\n",
    "\n",
    "init = tf.global_variables_initializer()\n",
    "\n",
    "n_epochs = 10\n",
    "batch_size = 32\n",
    "\n",
    "with tf.Session() as sess:\n",
    "    init.run()\n",
    "    for epoch in range(n_epochs):\n",
    "        for iteration in range(mnist.train.num_examples // batch_size):\n",
    "            \n",
    "            X_batch, y_batch = mnist.train.next_batch(batch_size)\n",
    "            sess.run(training_op, feed_dict={X: X_batch, y: y_batch})\n",
    "            \n",
    "        acc_train = accuracy.eval(feed_dict={X: X_batch, y: y_batch})\n",
    "        acc_val = accuracy.eval(feed_dict={X: X_val, y: y_val})\n",
    "        print(epoch, \"Train accuracy:\", acc_train, \"Val accuracy:\", acc_val)\n",
    "\n",
    "    save_path = saver.save(sess, \"./models/model_final.ckpt\")"
   ]
  },
  {
   "cell_type": "markdown",
   "metadata": {},
   "source": [
    "### 7.5 Xavier/He 초기화"
   ]
  },
  {
   "cell_type": "code",
   "execution_count": 11,
   "metadata": {},
   "outputs": [
    {
     "name": "stdout",
     "output_type": "stream",
     "text": [
      "0 Train accuracy: 0.90625 Val accuracy: 0.9114\n",
      "1 Train accuracy: 0.90625 Val accuracy: 0.9284\n",
      "2 Train accuracy: 0.9375 Val accuracy: 0.9386\n",
      "3 Train accuracy: 1.0 Val accuracy: 0.9442\n",
      "4 Train accuracy: 0.96875 Val accuracy: 0.9514\n",
      "5 Train accuracy: 0.96875 Val accuracy: 0.9538\n",
      "6 Train accuracy: 0.96875 Val accuracy: 0.9584\n",
      "7 Train accuracy: 1.0 Val accuracy: 0.9612\n",
      "8 Train accuracy: 1.0 Val accuracy: 0.9648\n",
      "9 Train accuracy: 0.96875 Val accuracy: 0.9674\n"
     ]
    }
   ],
   "source": [
    "reset_graph()\n",
    "\n",
    "n_inputs = 28*28 \n",
    "n_hidden1 = 300\n",
    "n_hidden2 = 100\n",
    "n_outputs = 10\n",
    "\n",
    "X = tf.placeholder(tf.float32, shape=(None, n_inputs), name=\"X\")\n",
    "y = tf.placeholder(tf.int64, shape=(None), name=\"y\")\n",
    "\n",
    "stddev = np.sqrt(2 / n_inputs)\n",
    "W1 = tf.Variable(tf.truncated_normal((n_inputs, n_hidden1), stddev=stddev, seed=0), name=\"weights1\")\n",
    "b1 = tf.Variable(tf.zeros([n_hidden1]), name=\"bias1\")\n",
    "Z1 = tf.add(tf.matmul(X, W1), b1, name=\"z1\")\n",
    "relu1= tf.nn.leaky_relu(Z1)\n",
    "\n",
    "stddev = np.sqrt(2 / n_hidden1)\n",
    "W2 = tf.Variable(tf.truncated_normal((n_hidden1, n_hidden2), stddev=stddev, seed=0), name=\"weights2\")\n",
    "b2 = tf.Variable(tf.zeros([n_hidden2]), name=\"bias2\")\n",
    "Z2 = tf.add(tf.matmul(relu1, W2), b2, name=\"z2\")\n",
    "relu2= tf.nn.leaky_relu(Z2)\n",
    "\n",
    "stddev = np.sqrt(2 / n_hidden2)\n",
    "W3 = tf.Variable(tf.truncated_normal((n_hidden2, n_outputs), stddev=stddev, seed=0), name=\"weights3\")\n",
    "b3 = tf.Variable(tf.zeros([n_outputs]), name=\"bias2\")\n",
    "logits = tf.add(tf.matmul(relu2, W3), b3, name=\"logit\")\n",
    "\n",
    "xentropy = tf.nn.sparse_softmax_cross_entropy_with_logits(labels=y, logits=logits)\n",
    "loss = tf.reduce_mean(xentropy, name=\"loss\")\n",
    "\n",
    "learning_rate = 0.01\n",
    "\n",
    "optimizer = tf.train.GradientDescentOptimizer(learning_rate)\n",
    "training_op = optimizer.minimize(loss)\n",
    "\n",
    "correct = tf.nn.in_top_k(logits, y, 1)\n",
    "accuracy = tf.reduce_mean(tf.cast(correct, tf.float32))\n",
    "saver = tf.train.Saver()\n",
    "\n",
    "init = tf.global_variables_initializer()\n",
    "\n",
    "n_epochs = 10\n",
    "batch_size = 32\n",
    "\n",
    "with tf.Session() as sess:\n",
    "    init.run()\n",
    "    for epoch in range(n_epochs):\n",
    "        for iteration in range(mnist.train.num_examples // batch_size):\n",
    "            \n",
    "            X_batch, y_batch = mnist.train.next_batch(batch_size)\n",
    "            sess.run(training_op, feed_dict={X: X_batch, y: y_batch})\n",
    "            \n",
    "        acc_train = accuracy.eval(feed_dict={X: X_batch, y: y_batch})\n",
    "        acc_val = accuracy.eval(feed_dict={X: X_val, y: y_val})\n",
    "        print(epoch, \"Train accuracy:\", acc_train, \"Val accuracy:\", acc_val)\n",
    "\n",
    "    save_path = saver.save(sess, \"./models/model_final.ckpt\")"
   ]
  },
  {
   "cell_type": "markdown",
   "metadata": {},
   "source": [
    "### `tf.layers.dense` 이용"
   ]
  },
  {
   "cell_type": "code",
   "execution_count": 12,
   "metadata": {},
   "outputs": [
    {
     "name": "stdout",
     "output_type": "stream",
     "text": [
      "0 Train accuracy: 0.9375 Val accuracy: 0.9148\n",
      "1 Train accuracy: 1.0 Val accuracy: 0.9294\n",
      "2 Train accuracy: 0.96875 Val accuracy: 0.9398\n",
      "3 Train accuracy: 1.0 Val accuracy: 0.9468\n",
      "4 Train accuracy: 1.0 Val accuracy: 0.9508\n",
      "5 Train accuracy: 0.96875 Val accuracy: 0.955\n",
      "6 Train accuracy: 0.9375 Val accuracy: 0.9592\n",
      "7 Train accuracy: 0.96875 Val accuracy: 0.9634\n",
      "8 Train accuracy: 0.96875 Val accuracy: 0.9658\n",
      "9 Train accuracy: 0.9375 Val accuracy: 0.9672\n"
     ]
    }
   ],
   "source": [
    "reset_graph()\n",
    "\n",
    "n_inputs = 28*28 \n",
    "n_hidden1 = 300\n",
    "n_hidden2 = 100\n",
    "n_outputs = 10\n",
    "\n",
    "X = tf.placeholder(tf.float32, shape=(None, n_inputs), name=\"X\")\n",
    "y = tf.placeholder(tf.int64, shape=(None), name=\"y\")\n",
    "\n",
    "he_init = tf.contrib.layers.variance_scaling_initializer()   \n",
    "\n",
    "hidden1= tf.layers.dense(X, n_hidden1, \n",
    "                         kernel_initializer=tf.contrib.layers.xavier_initializer(), \n",
    "                         activation=tf.nn.leaky_relu, \n",
    "                         name=\"hidden1\")\n",
    "\n",
    "hidden2= tf.layers.dense(hidden1, n_hidden2, \n",
    "                         kernel_initializer=tf.contrib.layers.xavier_initializer(),\n",
    "                         activation=tf.nn.leaky_relu,\n",
    "                         name=\"hidden2\", )\n",
    "logits =tf.layers.dense(hidden2, n_outputs, \n",
    "                        kernel_initializer=tf.contrib.layers.xavier_initializer(), \n",
    "                        name=\"outputs\") \n",
    "\n",
    "xentropy = tf.nn.sparse_softmax_cross_entropy_with_logits(labels=y, logits=logits)\n",
    "loss = tf.reduce_mean(xentropy, name=\"loss\")\n",
    "\n",
    "learning_rate = 0.01\n",
    "\n",
    "optimizer = tf.train.GradientDescentOptimizer(learning_rate)\n",
    "training_op = optimizer.minimize(loss)\n",
    "\n",
    "correct = tf.nn.in_top_k(logits, y, 1)\n",
    "accuracy = tf.reduce_mean(tf.cast(correct, tf.float32))\n",
    "saver = tf.train.Saver()\n",
    "\n",
    "init = tf.global_variables_initializer()\n",
    "\n",
    "n_epochs = 10\n",
    "batch_size = 32\n",
    "\n",
    "with tf.Session() as sess:\n",
    "    init.run()\n",
    "    for epoch in range(n_epochs):\n",
    "        for iteration in range(mnist.train.num_examples // batch_size):\n",
    "            \n",
    "            X_batch, y_batch = mnist.train.next_batch(batch_size)\n",
    "            sess.run(training_op, feed_dict={X: X_batch, y: y_batch})\n",
    "            \n",
    "        acc_train = accuracy.eval(feed_dict={X: X_batch, y: y_batch})\n",
    "        acc_val = accuracy.eval(feed_dict={X: X_val, y: y_val})\n",
    "        print(epoch, \"Train accuracy:\", acc_train, \"Val accuracy:\", acc_val)\n",
    "\n",
    "    save_path = saver.save(sess, \"./models/model_final.ckpt\")"
   ]
  },
  {
   "cell_type": "markdown",
   "metadata": {},
   "source": [
    "### 7.6 배치 정규화"
   ]
  },
  {
   "cell_type": "code",
   "execution_count": 17,
   "metadata": {},
   "outputs": [
    {
     "name": "stdout",
     "output_type": "stream",
     "text": [
      "0 Train accuracy: 0.90625 Val accuracy: 0.9282\n",
      "1 Train accuracy: 0.9375 Val accuracy: 0.9462\n",
      "2 Train accuracy: 0.96875 Val accuracy: 0.957\n",
      "3 Train accuracy: 1.0 Val accuracy: 0.9652\n",
      "4 Train accuracy: 1.0 Val accuracy: 0.9676\n",
      "5 Train accuracy: 1.0 Val accuracy: 0.9688\n",
      "6 Train accuracy: 0.96875 Val accuracy: 0.9724\n",
      "7 Train accuracy: 1.0 Val accuracy: 0.9744\n",
      "8 Train accuracy: 1.0 Val accuracy: 0.9742\n",
      "9 Train accuracy: 1.0 Val accuracy: 0.9752\n",
      "10 Train accuracy: 1.0 Val accuracy: 0.9762\n",
      "11 Train accuracy: 1.0 Val accuracy: 0.9772\n",
      "12 Train accuracy: 1.0 Val accuracy: 0.9784\n",
      "13 Train accuracy: 1.0 Val accuracy: 0.9776\n",
      "14 Train accuracy: 0.96875 Val accuracy: 0.9766\n",
      "15 Train accuracy: 1.0 Val accuracy: 0.9794\n",
      "16 Train accuracy: 1.0 Val accuracy: 0.9782\n",
      "17 Train accuracy: 1.0 Val accuracy: 0.978\n",
      "18 Train accuracy: 1.0 Val accuracy: 0.9776\n",
      "19 Train accuracy: 1.0 Val accuracy: 0.9804\n",
      "20 Train accuracy: 1.0 Val accuracy: 0.981\n",
      "21 Train accuracy: 1.0 Val accuracy: 0.9798\n",
      "22 Train accuracy: 1.0 Val accuracy: 0.9786\n",
      "23 Train accuracy: 1.0 Val accuracy: 0.982\n",
      "24 Train accuracy: 1.0 Val accuracy: 0.98\n",
      "25 Train accuracy: 1.0 Val accuracy: 0.9818\n",
      "26 Train accuracy: 1.0 Val accuracy: 0.9818\n",
      "27 Train accuracy: 1.0 Val accuracy: 0.9804\n",
      "28 Train accuracy: 1.0 Val accuracy: 0.9828\n",
      "29 Train accuracy: 1.0 Val accuracy: 0.98\n"
     ]
    }
   ],
   "source": [
    "reset_graph()\n",
    "\n",
    "n_inputs = 28*28 \n",
    "n_hidden1 = 300\n",
    "n_hidden2 = 100\n",
    "n_outputs = 10\n",
    "\n",
    "X = tf.placeholder(tf.float32, shape=(None, n_inputs), name=\"X\")\n",
    "y = tf.placeholder(tf.int64, shape=(None), name=\"y\")\n",
    "training = tf.placeholder_with_default(False, shape=(), name=\"training\")\n",
    "\n",
    "he_init = tf.contrib.layers.variance_scaling_initializer()   \n",
    "\n",
    "hidden1= tf.layers.dense(X, n_hidden1, kernel_initializer=he_init, name=\"hidden1\")\n",
    "bn1 = tf.layers.batch_normalization(hidden1, training=training, momentum=0.9)\n",
    "bn1_act = tf.nn.elu(bn1)\n",
    "\n",
    "hidden2 = tf.layers.dense(bn1_act, n_hidden2, kernel_initializer=he_init, name=\"hidden2\")\n",
    "bn2 =  tf.layers.batch_normalization(hidden2, training=training, momentum=0.9)\n",
    "bn2_act = tf.nn.elu(bn2)\n",
    "\n",
    "logits_before_bn =tf.layers.dense(bn2_act, n_outputs, kernel_initializer=he_init, name=\"outputs\") \n",
    "logits = tf.layers.batch_normalization(logits_before_bn, training=training, momentum=0.9)\n",
    "\n",
    "xentropy = tf.nn.sparse_softmax_cross_entropy_with_logits(labels=y, logits=logits)\n",
    "loss = tf.reduce_mean(xentropy, name=\"loss\")\n",
    "\n",
    "learning_rate = 0.01\n",
    "\n",
    "optimizer = tf.train.GradientDescentOptimizer(learning_rate)\n",
    "training_op = optimizer.minimize(loss)\n",
    "\n",
    "correct = tf.nn.in_top_k(logits, y, 1)\n",
    "accuracy = tf.reduce_mean(tf.cast(correct, tf.float32))\n",
    "saver = tf.train.Saver()\n",
    "\n",
    "moving_average_update_op = tf.get_collection(tf.GraphKeys.UPDATE_OPS)\n",
    "\n",
    "init = tf.global_variables_initializer()\n",
    "\n",
    "n_epochs = 30\n",
    "batch_size = 32\n",
    "\n",
    "acc_GD = []\n",
    "with tf.Session() as sess:\n",
    "    init.run()\n",
    "    for epoch in range(n_epochs):\n",
    "        for iteration in range(mnist.train.num_examples // batch_size):\n",
    "            \n",
    "            X_batch, y_batch = mnist.train.next_batch(batch_size)\n",
    "            sess.run([training_op, moving_average_update_op], \n",
    "                     feed_dict={X: X_batch, y: y_batch, training: True})\n",
    "            \n",
    "        acc_train = accuracy.eval(feed_dict={X: X_batch, y: y_batch})\n",
    "        acc_val = accuracy.eval(feed_dict={X: X_val, y: y_val})\n",
    "        acc_GD.append(acc_val)\n",
    "        print(epoch, \"Train accuracy:\", acc_train, \"Val accuracy:\", acc_val)\n",
    "\n",
    "    save_path = saver.save(sess, \"./models/model_final.ckpt\")"
   ]
  },
  {
   "cell_type": "markdown",
   "metadata": {},
   "source": [
    "### 7.7 드롭아웃"
   ]
  },
  {
   "cell_type": "code",
   "execution_count": 18,
   "metadata": {},
   "outputs": [
    {
     "name": "stdout",
     "output_type": "stream",
     "text": [
      "0 Train accuracy: 0.90625 Val accuracy: 0.8868\n",
      "1 Train accuracy: 0.9375 Val accuracy: 0.908\n",
      "2 Train accuracy: 0.90625 Val accuracy: 0.916\n",
      "3 Train accuracy: 0.8125 Val accuracy: 0.9194\n",
      "4 Train accuracy: 0.9375 Val accuracy: 0.9258\n",
      "5 Train accuracy: 0.875 Val accuracy: 0.9284\n",
      "6 Train accuracy: 0.96875 Val accuracy: 0.9312\n",
      "7 Train accuracy: 0.9375 Val accuracy: 0.9332\n",
      "8 Train accuracy: 0.9375 Val accuracy: 0.937\n",
      "9 Train accuracy: 0.90625 Val accuracy: 0.9378\n"
     ]
    }
   ],
   "source": [
    "reset_graph()\n",
    "\n",
    "n_inputs = 28*28 \n",
    "n_hidden1 = 300\n",
    "n_hidden2 = 100\n",
    "n_outputs = 10\n",
    "\n",
    "X = tf.placeholder(tf.float32, shape=(None, n_inputs), name=\"X\")\n",
    "y = tf.placeholder(tf.int64, shape=(None), name=\"y\")\n",
    "\n",
    "training = tf.placeholder_with_default(False, shape=(), name=\"training\")\n",
    "\n",
    "dropout_rate = 0.5\n",
    "X_drop = tf.layers.dropout(X, dropout_rate, training=training)\n",
    "he_init = tf.contrib.layers.variance_scaling_initializer()   \n",
    "\n",
    "hidden1= tf.layers.dense(X, n_hidden1, kernel_initializer=he_init, name=\"hidden1\")\n",
    "bn1 = tf.layers.batch_normalization(hidden1, training=training, momentum=0.9)\n",
    "bn1_act = tf.nn.elu(bn1)\n",
    "hidden1_drop = tf.layers.dropout(bn1_act, dropout_rate, training=training)\n",
    "\n",
    "\n",
    "hidden2 = tf.layers.dense(hidden1_drop, n_hidden2, kernel_initializer=he_init, name=\"hidden2\")\n",
    "bn2 =  tf.layers.batch_normalization(hidden2, training=training, momentum=0.9)\n",
    "bn2_act = tf.nn.elu(bn2)\n",
    "hidden2_drop = tf.layers.dropout(bn2_act, dropout_rate, training=training)\n",
    "\n",
    "logits_before_bn =tf.layers.dense(hidden2_drop, n_outputs, kernel_initializer=he_init, name=\"outputs\") \n",
    "logits = tf.layers.batch_normalization(logits_before_bn, training=training, momentum=0.9)\n",
    "\n",
    "xentropy = tf.nn.sparse_softmax_cross_entropy_with_logits(labels=y, logits=logits)\n",
    "loss = tf.reduce_mean(xentropy, name=\"loss\")\n",
    "\n",
    "learning_rate = 0.01\n",
    "\n",
    "optimizer = tf.train.GradientDescentOptimizer(learning_rate)\n",
    "training_op = optimizer.minimize(loss)\n",
    "\n",
    "correct = tf.nn.in_top_k(logits, y, 1)\n",
    "accuracy = tf.reduce_mean(tf.cast(correct, tf.float32))\n",
    "saver = tf.train.Saver()\n",
    "\n",
    "moving_average_update_op = tf.get_collection(tf.GraphKeys.UPDATE_OPS)\n",
    "\n",
    "init = tf.global_variables_initializer()\n",
    "\n",
    "n_epochs = 10\n",
    "batch_size = 32\n",
    "\n",
    "acc_drop = []\n",
    "with tf.Session() as sess:\n",
    "    init.run()\n",
    "    for epoch in range(n_epochs):\n",
    "        for iteration in range(mnist.train.num_examples // batch_size):\n",
    "            \n",
    "            X_batch, y_batch = mnist.train.next_batch(batch_size)\n",
    "            sess.run([training_op, moving_average_update_op], \n",
    "                     feed_dict={X: X_batch, y: y_batch, training: True})\n",
    "            \n",
    "        acc_train = accuracy.eval(feed_dict={X: X_batch, y: y_batch})\n",
    "        acc_val = accuracy.eval(feed_dict={X: X_val, y: y_val})\n",
    "        acc_drop.append(acc_val)\n",
    "        print(epoch, \"Train accuracy:\", acc_train, \"Val accuracy:\", acc_val)\n",
    "\n",
    "    save_path = saver.save(sess, \"./models/model_final.ckpt\")"
   ]
  },
  {
   "cell_type": "markdown",
   "metadata": {},
   "source": [
    "### 7.8 옵티마이저"
   ]
  },
  {
   "cell_type": "code",
   "execution_count": 19,
   "metadata": {},
   "outputs": [
    {
     "name": "stdout",
     "output_type": "stream",
     "text": [
      "0 Train accuracy: 0.96875 Val accuracy: 0.9662\n",
      "1 Train accuracy: 1.0 Val accuracy: 0.9738\n",
      "2 Train accuracy: 1.0 Val accuracy: 0.9772\n",
      "3 Train accuracy: 0.9375 Val accuracy: 0.979\n",
      "4 Train accuracy: 1.0 Val accuracy: 0.9786\n",
      "5 Train accuracy: 0.96875 Val accuracy: 0.981\n",
      "6 Train accuracy: 1.0 Val accuracy: 0.9812\n",
      "7 Train accuracy: 1.0 Val accuracy: 0.9824\n",
      "8 Train accuracy: 1.0 Val accuracy: 0.9814\n",
      "9 Train accuracy: 1.0 Val accuracy: 0.9842\n",
      "10 Train accuracy: 1.0 Val accuracy: 0.9826\n",
      "11 Train accuracy: 1.0 Val accuracy: 0.9828\n",
      "12 Train accuracy: 1.0 Val accuracy: 0.9812\n",
      "13 Train accuracy: 1.0 Val accuracy: 0.9836\n",
      "14 Train accuracy: 1.0 Val accuracy: 0.9838\n",
      "15 Train accuracy: 1.0 Val accuracy: 0.984\n",
      "16 Train accuracy: 1.0 Val accuracy: 0.9846\n",
      "17 Train accuracy: 1.0 Val accuracy: 0.9838\n",
      "18 Train accuracy: 1.0 Val accuracy: 0.9846\n",
      "19 Train accuracy: 1.0 Val accuracy: 0.9844\n",
      "20 Train accuracy: 1.0 Val accuracy: 0.9846\n",
      "21 Train accuracy: 1.0 Val accuracy: 0.9838\n",
      "22 Train accuracy: 1.0 Val accuracy: 0.9836\n",
      "23 Train accuracy: 1.0 Val accuracy: 0.9834\n",
      "24 Train accuracy: 1.0 Val accuracy: 0.9812\n",
      "25 Train accuracy: 1.0 Val accuracy: 0.9852\n",
      "26 Train accuracy: 1.0 Val accuracy: 0.9852\n",
      "27 Train accuracy: 1.0 Val accuracy: 0.9866\n",
      "28 Train accuracy: 1.0 Val accuracy: 0.985\n",
      "29 Train accuracy: 1.0 Val accuracy: 0.9844\n"
     ]
    }
   ],
   "source": [
    "reset_graph()\n",
    "\n",
    "n_inputs = 28*28 \n",
    "n_hidden1 = 300\n",
    "n_hidden2 = 100\n",
    "n_outputs = 10\n",
    "\n",
    "X = tf.placeholder(tf.float32, shape=(None, n_inputs), name=\"X\")\n",
    "y = tf.placeholder(tf.int64, shape=(None), name=\"y\")\n",
    "training = tf.placeholder_with_default(False, shape=(), name=\"training\")\n",
    "\n",
    "he_init = tf.contrib.layers.variance_scaling_initializer()   \n",
    "\n",
    "hidden1= tf.layers.dense(X, n_hidden1, kernel_initializer=he_init, name=\"hidden1\")\n",
    "bn1 = tf.layers.batch_normalization(hidden1, training=training, momentum=0.9)\n",
    "bn1_act = tf.nn.elu(bn1)\n",
    "\n",
    "hidden2 = tf.layers.dense(bn1_act, n_hidden2, kernel_initializer=he_init, name=\"hidden2\")\n",
    "bn2 =  tf.layers.batch_normalization(hidden2, training=training, momentum=0.9)\n",
    "bn2_act = tf.nn.elu(bn2)\n",
    "\n",
    "logits_before_bn =tf.layers.dense(bn2_act, n_outputs, kernel_initializer=he_init, name=\"outputs\") \n",
    "logits = tf.layers.batch_normalization(logits_before_bn, training=training, momentum=0.9)\n",
    "\n",
    "xentropy = tf.nn.sparse_softmax_cross_entropy_with_logits(labels=y, logits=logits)\n",
    "loss = tf.reduce_mean(xentropy, name=\"loss\")\n",
    "\n",
    "learning_rate = 0.01\n",
    "\n",
    "optimizer = tf.train.AdamOptimizer(learning_rate)\n",
    "training_op = optimizer.minimize(loss)\n",
    "\n",
    "correct = tf.nn.in_top_k(logits, y, 1)\n",
    "accuracy = tf.reduce_mean(tf.cast(correct, tf.float32))\n",
    "saver = tf.train.Saver()\n",
    "\n",
    "moving_average_update_op = tf.get_collection(tf.GraphKeys.UPDATE_OPS)\n",
    "\n",
    "init = tf.global_variables_initializer()\n",
    "\n",
    "n_epochs = 30\n",
    "batch_size = 32\n",
    "\n",
    "acc_adam = []\n",
    "with tf.Session() as sess:\n",
    "    init.run()\n",
    "    for epoch in range(n_epochs):\n",
    "        for iteration in range(mnist.train.num_examples // batch_size):\n",
    "            \n",
    "            X_batch, y_batch = mnist.train.next_batch(batch_size)\n",
    "            sess.run([training_op, moving_average_update_op], \n",
    "                     feed_dict={X: X_batch, y: y_batch, training: True})\n",
    "            \n",
    "        acc_train = accuracy.eval(feed_dict={X: X_batch, y: y_batch})\n",
    "        acc_val = accuracy.eval(feed_dict={X: X_val, y: y_val})\n",
    "        acc_adam.append(acc_val)\n",
    "        print(epoch, \"Train accuracy:\", acc_train, \"Val accuracy:\", acc_val)\n",
    "\n",
    "    save_path = saver.save(sess, \"./models/model_final.ckpt\")"
   ]
  },
  {
   "cell_type": "code",
   "execution_count": 20,
   "metadata": {},
   "outputs": [
    {
     "data": {
      "text/plain": [
       "Text(0,0.5,'validation accuracy')"
      ]
     },
     "execution_count": 20,
     "metadata": {},
     "output_type": "execute_result"
    },
    {
     "data": {
      "image/png": "[encoded data removed]",
      "text/plain": [
       "<Figure size 432x288 with 1 Axes>"
      ]
     },
     "metadata": {},
     "output_type": "display_data"
    }
   ],
   "source": [
    "plt.plot(acc_GD, 'k-')\n",
    "plt.plot(acc_adam , 'k--')\n",
    "plt.legend(['GradientDescent', 'Adam'])\n",
    "plt.xlabel('epoch')\n",
    "plt.ylabel('validation accuracy')"
   ]
  },
  {
   "cell_type": "code",
   "execution_count": null,
   "metadata": {},
   "outputs": [],
   "source": []
  }
 ],
 "metadata": {
  "kernelspec": {
   "display_name": "Python 3",
   "language": "python",
   "name": "python3"
  },
  "language_info": {
   "codemirror_mode": {
    "name": "ipython",
    "version": 3
   },
   "file_extension": ".py",
   "mimetype": "text/x-python",
   "name": "python",
   "nbconvert_exporter": "python",
   "pygments_lexer": "ipython3",
   "version": "3.6.3"
  }
 },
 "nbformat": 4,
 "nbformat_minor": 2
}
