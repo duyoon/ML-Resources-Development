{
 "cells": [
  {
   "cell_type": "markdown",
   "metadata": {},
   "source": [
    "# CHAPTER 08 스마트 마이닝과 머신러닝\n",
    "\n",
    "## 2. 머신러닝 기반 광석 분류 실습"
   ]
  },
  {
   "cell_type": "code",
   "execution_count": 1,
   "metadata": {},
   "outputs": [],
   "source": [
    "%matplotlib inline\n",
    "import pandas as pd\n",
    "import numpy as np\n",
    "import matplotlib.pyplot as plt\n",
    "from pandas import set_option\n",
    "set_option(\"display.max_rows\", 10)"
   ]
  },
  {
   "cell_type": "markdown",
   "metadata": {},
   "source": [
    "#### 데이터 불러오기"
   ]
  },
  {
   "cell_type": "code",
   "execution_count": 2,
   "metadata": {},
   "outputs": [
    {
     "data": {
      "text/html": [
       "<div>\n",
       "<style>\n",
       "    .dataframe thead tr:only-child th {\n",
       "        text-align: right;\n",
       "    }\n",
       "\n",
       "    .dataframe thead th {\n",
       "        text-align: left;\n",
       "    }\n",
       "\n",
       "    .dataframe tbody tr th {\n",
       "        vertical-align: top;\n",
       "    }\n",
       "</style>\n",
       "<table border=\"1\" class=\"dataframe\">\n",
       "  <thead>\n",
       "    <tr style=\"text-align: right;\">\n",
       "      <th></th>\n",
       "      <th>MgO</th>\n",
       "      <th>Al2O3</th>\n",
       "      <th>SiO2</th>\n",
       "      <th>P2O5</th>\n",
       "      <th>S</th>\n",
       "      <th>Cl</th>\n",
       "      <th>K2O</th>\n",
       "      <th>CaO</th>\n",
       "      <th>TiO2</th>\n",
       "      <th>V</th>\n",
       "      <th>...</th>\n",
       "      <th>Y</th>\n",
       "      <th>Zr</th>\n",
       "      <th>Mo</th>\n",
       "      <th>Ag</th>\n",
       "      <th>Sn</th>\n",
       "      <th>Ba</th>\n",
       "      <th>W</th>\n",
       "      <th>Hg</th>\n",
       "      <th>Pb</th>\n",
       "      <th>Classification</th>\n",
       "    </tr>\n",
       "  </thead>\n",
       "  <tbody>\n",
       "    <tr>\n",
       "      <th>0</th>\n",
       "      <td>5.501100</td>\n",
       "      <td>0.000000</td>\n",
       "      <td>0.000000</td>\n",
       "      <td>0.417175</td>\n",
       "      <td>0.000000</td>\n",
       "      <td>0.086050</td>\n",
       "      <td>0.000000</td>\n",
       "      <td>66.174175</td>\n",
       "      <td>0.020750</td>\n",
       "      <td>0.00245</td>\n",
       "      <td>...</td>\n",
       "      <td>0.000000</td>\n",
       "      <td>0.003625</td>\n",
       "      <td>0.000000</td>\n",
       "      <td>0.005050</td>\n",
       "      <td>0.000000</td>\n",
       "      <td>0.0</td>\n",
       "      <td>0.000000</td>\n",
       "      <td>0.000000</td>\n",
       "      <td>0.00000</td>\n",
       "      <td>marble</td>\n",
       "    </tr>\n",
       "    <tr>\n",
       "      <th>1</th>\n",
       "      <td>1.340325</td>\n",
       "      <td>0.000000</td>\n",
       "      <td>0.000000</td>\n",
       "      <td>0.497300</td>\n",
       "      <td>0.000000</td>\n",
       "      <td>0.065125</td>\n",
       "      <td>0.000000</td>\n",
       "      <td>72.199650</td>\n",
       "      <td>0.013250</td>\n",
       "      <td>0.00000</td>\n",
       "      <td>...</td>\n",
       "      <td>0.000000</td>\n",
       "      <td>0.004525</td>\n",
       "      <td>0.000000</td>\n",
       "      <td>0.000000</td>\n",
       "      <td>0.000000</td>\n",
       "      <td>0.0</td>\n",
       "      <td>0.000000</td>\n",
       "      <td>0.000000</td>\n",
       "      <td>0.00000</td>\n",
       "      <td>marble</td>\n",
       "    </tr>\n",
       "    <tr>\n",
       "      <th>2</th>\n",
       "      <td>1.100750</td>\n",
       "      <td>0.000000</td>\n",
       "      <td>0.000000</td>\n",
       "      <td>0.472450</td>\n",
       "      <td>0.000000</td>\n",
       "      <td>0.044250</td>\n",
       "      <td>0.000000</td>\n",
       "      <td>70.864350</td>\n",
       "      <td>0.041900</td>\n",
       "      <td>0.00000</td>\n",
       "      <td>...</td>\n",
       "      <td>0.000400</td>\n",
       "      <td>0.004650</td>\n",
       "      <td>0.000000</td>\n",
       "      <td>0.004975</td>\n",
       "      <td>0.000000</td>\n",
       "      <td>0.0</td>\n",
       "      <td>0.000000</td>\n",
       "      <td>0.000000</td>\n",
       "      <td>0.00000</td>\n",
       "      <td>marble</td>\n",
       "    </tr>\n",
       "    <tr>\n",
       "      <th>3</th>\n",
       "      <td>0.562550</td>\n",
       "      <td>0.000000</td>\n",
       "      <td>0.000000</td>\n",
       "      <td>0.558950</td>\n",
       "      <td>0.000000</td>\n",
       "      <td>0.125375</td>\n",
       "      <td>0.000000</td>\n",
       "      <td>72.086150</td>\n",
       "      <td>0.032875</td>\n",
       "      <td>0.00000</td>\n",
       "      <td>...</td>\n",
       "      <td>0.000375</td>\n",
       "      <td>0.004025</td>\n",
       "      <td>0.000975</td>\n",
       "      <td>0.020500</td>\n",
       "      <td>0.000000</td>\n",
       "      <td>0.0</td>\n",
       "      <td>0.000000</td>\n",
       "      <td>0.000000</td>\n",
       "      <td>0.00000</td>\n",
       "      <td>marble</td>\n",
       "    </tr>\n",
       "    <tr>\n",
       "      <th>4</th>\n",
       "      <td>0.000000</td>\n",
       "      <td>0.000000</td>\n",
       "      <td>0.000000</td>\n",
       "      <td>0.480175</td>\n",
       "      <td>0.000000</td>\n",
       "      <td>0.042525</td>\n",
       "      <td>0.000000</td>\n",
       "      <td>68.769800</td>\n",
       "      <td>0.012825</td>\n",
       "      <td>0.00000</td>\n",
       "      <td>...</td>\n",
       "      <td>0.000000</td>\n",
       "      <td>0.004275</td>\n",
       "      <td>0.000925</td>\n",
       "      <td>0.000000</td>\n",
       "      <td>0.000000</td>\n",
       "      <td>0.0</td>\n",
       "      <td>0.000000</td>\n",
       "      <td>0.000000</td>\n",
       "      <td>0.00000</td>\n",
       "      <td>marble</td>\n",
       "    </tr>\n",
       "    <tr>\n",
       "      <th>...</th>\n",
       "      <td>...</td>\n",
       "      <td>...</td>\n",
       "      <td>...</td>\n",
       "      <td>...</td>\n",
       "      <td>...</td>\n",
       "      <td>...</td>\n",
       "      <td>...</td>\n",
       "      <td>...</td>\n",
       "      <td>...</td>\n",
       "      <td>...</td>\n",
       "      <td>...</td>\n",
       "      <td>...</td>\n",
       "      <td>...</td>\n",
       "      <td>...</td>\n",
       "      <td>...</td>\n",
       "      <td>...</td>\n",
       "      <td>...</td>\n",
       "      <td>...</td>\n",
       "      <td>...</td>\n",
       "      <td>...</td>\n",
       "      <td>...</td>\n",
       "    </tr>\n",
       "    <tr>\n",
       "      <th>258</th>\n",
       "      <td>0.000000</td>\n",
       "      <td>0.694577</td>\n",
       "      <td>65.929438</td>\n",
       "      <td>0.268503</td>\n",
       "      <td>0.046637</td>\n",
       "      <td>0.000000</td>\n",
       "      <td>0.045098</td>\n",
       "      <td>19.519139</td>\n",
       "      <td>0.000000</td>\n",
       "      <td>0.00000</td>\n",
       "      <td>...</td>\n",
       "      <td>0.000000</td>\n",
       "      <td>0.000724</td>\n",
       "      <td>0.001087</td>\n",
       "      <td>0.000000</td>\n",
       "      <td>0.006792</td>\n",
       "      <td>0.0</td>\n",
       "      <td>0.028797</td>\n",
       "      <td>0.000000</td>\n",
       "      <td>0.00000</td>\n",
       "      <td>intrusive rock</td>\n",
       "    </tr>\n",
       "    <tr>\n",
       "      <th>259</th>\n",
       "      <td>0.000000</td>\n",
       "      <td>0.000000</td>\n",
       "      <td>62.265500</td>\n",
       "      <td>0.308200</td>\n",
       "      <td>0.021600</td>\n",
       "      <td>0.000000</td>\n",
       "      <td>0.000000</td>\n",
       "      <td>17.344800</td>\n",
       "      <td>0.000000</td>\n",
       "      <td>0.00000</td>\n",
       "      <td>...</td>\n",
       "      <td>0.000000</td>\n",
       "      <td>0.000000</td>\n",
       "      <td>0.000000</td>\n",
       "      <td>0.000000</td>\n",
       "      <td>0.032000</td>\n",
       "      <td>0.0</td>\n",
       "      <td>0.050400</td>\n",
       "      <td>0.000000</td>\n",
       "      <td>0.00000</td>\n",
       "      <td>intrusive rock</td>\n",
       "    </tr>\n",
       "    <tr>\n",
       "      <th>260</th>\n",
       "      <td>0.000000</td>\n",
       "      <td>1.084704</td>\n",
       "      <td>33.840170</td>\n",
       "      <td>0.250212</td>\n",
       "      <td>6.013921</td>\n",
       "      <td>0.000000</td>\n",
       "      <td>0.039548</td>\n",
       "      <td>25.413335</td>\n",
       "      <td>0.000000</td>\n",
       "      <td>0.00000</td>\n",
       "      <td>...</td>\n",
       "      <td>0.000000</td>\n",
       "      <td>0.000000</td>\n",
       "      <td>0.000000</td>\n",
       "      <td>0.006413</td>\n",
       "      <td>0.057913</td>\n",
       "      <td>0.0</td>\n",
       "      <td>0.042366</td>\n",
       "      <td>0.008745</td>\n",
       "      <td>0.01409</td>\n",
       "      <td>ore</td>\n",
       "    </tr>\n",
       "    <tr>\n",
       "      <th>261</th>\n",
       "      <td>0.000000</td>\n",
       "      <td>0.000000</td>\n",
       "      <td>20.827500</td>\n",
       "      <td>0.182200</td>\n",
       "      <td>1.625400</td>\n",
       "      <td>0.000000</td>\n",
       "      <td>0.000000</td>\n",
       "      <td>18.661600</td>\n",
       "      <td>0.000000</td>\n",
       "      <td>0.00000</td>\n",
       "      <td>...</td>\n",
       "      <td>0.000000</td>\n",
       "      <td>0.000000</td>\n",
       "      <td>0.000000</td>\n",
       "      <td>0.000000</td>\n",
       "      <td>0.081000</td>\n",
       "      <td>0.0</td>\n",
       "      <td>0.027600</td>\n",
       "      <td>0.000000</td>\n",
       "      <td>0.00340</td>\n",
       "      <td>ore</td>\n",
       "    </tr>\n",
       "    <tr>\n",
       "      <th>262</th>\n",
       "      <td>2.174700</td>\n",
       "      <td>0.000000</td>\n",
       "      <td>22.005300</td>\n",
       "      <td>0.266900</td>\n",
       "      <td>2.618400</td>\n",
       "      <td>0.000000</td>\n",
       "      <td>0.000000</td>\n",
       "      <td>20.659700</td>\n",
       "      <td>0.000000</td>\n",
       "      <td>0.00000</td>\n",
       "      <td>...</td>\n",
       "      <td>0.000000</td>\n",
       "      <td>0.000000</td>\n",
       "      <td>0.000000</td>\n",
       "      <td>0.009100</td>\n",
       "      <td>0.093000</td>\n",
       "      <td>0.0</td>\n",
       "      <td>0.036200</td>\n",
       "      <td>0.000000</td>\n",
       "      <td>0.00700</td>\n",
       "      <td>ore</td>\n",
       "    </tr>\n",
       "  </tbody>\n",
       "</table>\n",
       "<p>263 rows × 28 columns</p>\n",
       "</div>"
      ],
      "text/plain": [
       "          MgO     Al2O3       SiO2      P2O5         S        Cl       K2O  \\\n",
       "0    5.501100  0.000000   0.000000  0.417175  0.000000  0.086050  0.000000   \n",
       "1    1.340325  0.000000   0.000000  0.497300  0.000000  0.065125  0.000000   \n",
       "2    1.100750  0.000000   0.000000  0.472450  0.000000  0.044250  0.000000   \n",
       "3    0.562550  0.000000   0.000000  0.558950  0.000000  0.125375  0.000000   \n",
       "4    0.000000  0.000000   0.000000  0.480175  0.000000  0.042525  0.000000   \n",
       "..        ...       ...        ...       ...       ...       ...       ...   \n",
       "258  0.000000  0.694577  65.929438  0.268503  0.046637  0.000000  0.045098   \n",
       "259  0.000000  0.000000  62.265500  0.308200  0.021600  0.000000  0.000000   \n",
       "260  0.000000  1.084704  33.840170  0.250212  6.013921  0.000000  0.039548   \n",
       "261  0.000000  0.000000  20.827500  0.182200  1.625400  0.000000  0.000000   \n",
       "262  2.174700  0.000000  22.005300  0.266900  2.618400  0.000000  0.000000   \n",
       "\n",
       "           CaO      TiO2        V       ...               Y        Zr  \\\n",
       "0    66.174175  0.020750  0.00245       ...        0.000000  0.003625   \n",
       "1    72.199650  0.013250  0.00000       ...        0.000000  0.004525   \n",
       "2    70.864350  0.041900  0.00000       ...        0.000400  0.004650   \n",
       "3    72.086150  0.032875  0.00000       ...        0.000375  0.004025   \n",
       "4    68.769800  0.012825  0.00000       ...        0.000000  0.004275   \n",
       "..         ...       ...      ...       ...             ...       ...   \n",
       "258  19.519139  0.000000  0.00000       ...        0.000000  0.000724   \n",
       "259  17.344800  0.000000  0.00000       ...        0.000000  0.000000   \n",
       "260  25.413335  0.000000  0.00000       ...        0.000000  0.000000   \n",
       "261  18.661600  0.000000  0.00000       ...        0.000000  0.000000   \n",
       "262  20.659700  0.000000  0.00000       ...        0.000000  0.000000   \n",
       "\n",
       "           Mo        Ag        Sn   Ba         W        Hg       Pb  \\\n",
       "0    0.000000  0.005050  0.000000  0.0  0.000000  0.000000  0.00000   \n",
       "1    0.000000  0.000000  0.000000  0.0  0.000000  0.000000  0.00000   \n",
       "2    0.000000  0.004975  0.000000  0.0  0.000000  0.000000  0.00000   \n",
       "3    0.000975  0.020500  0.000000  0.0  0.000000  0.000000  0.00000   \n",
       "4    0.000925  0.000000  0.000000  0.0  0.000000  0.000000  0.00000   \n",
       "..        ...       ...       ...  ...       ...       ...      ...   \n",
       "258  0.001087  0.000000  0.006792  0.0  0.028797  0.000000  0.00000   \n",
       "259  0.000000  0.000000  0.032000  0.0  0.050400  0.000000  0.00000   \n",
       "260  0.000000  0.006413  0.057913  0.0  0.042366  0.008745  0.01409   \n",
       "261  0.000000  0.000000  0.081000  0.0  0.027600  0.000000  0.00340   \n",
       "262  0.000000  0.009100  0.093000  0.0  0.036200  0.000000  0.00700   \n",
       "\n",
       "     Classification  \n",
       "0            marble  \n",
       "1            marble  \n",
       "2            marble  \n",
       "3            marble  \n",
       "4            marble  \n",
       "..              ...  \n",
       "258  intrusive rock  \n",
       "259  intrusive rock  \n",
       "260            ore   \n",
       "261            ore   \n",
       "262            ore   \n",
       "\n",
       "[263 rows x 28 columns]"
      ]
     },
     "execution_count": 2,
     "metadata": {},
     "output_type": "execute_result"
    }
   ],
   "source": [
    "training_data = pd.read_csv('Data/PXRF_Rock_Classification.csv')\n",
    "training_data"
   ]
  },
  {
   "cell_type": "markdown",
   "metadata": {},
   "source": [
    "#### 클래스 정수 변환"
   ]
  },
  {
   "cell_type": "code",
   "execution_count": 3,
   "metadata": {},
   "outputs": [],
   "source": [
    "label_indices = ['marble', 'limestone', 'altered limestone', 'dolomite', 'intrusive rock', 'ore ']\n",
    "for index, face in enumerate(label_indices):\n",
    "    training_data.replace(face, index, inplace=True)"
   ]
  },
  {
   "cell_type": "markdown",
   "metadata": {},
   "source": [
    "#### 훈련/검증 데이터세트 분리"
   ]
  },
  {
   "cell_type": "code",
   "execution_count": 5,
   "metadata": {},
   "outputs": [],
   "source": [
    "from sklearn.model_selection import train_test_split\n",
    "train_set, val_set = train_test_split(training_data, test_size=0.33, stratify=training_data['Classification'],\n",
    "                                      random_state=4)"
   ]
  },
  {
   "cell_type": "code",
   "execution_count": 6,
   "metadata": {},
   "outputs": [
    {
     "data": {
      "text/plain": [
       "0    0.329545\n",
       "1    0.267045\n",
       "2    0.181818\n",
       "4    0.147727\n",
       "5    0.039773\n",
       "3    0.034091\n",
       "Name: Classification, dtype: float64"
      ]
     },
     "execution_count": 6,
     "metadata": {},
     "output_type": "execute_result"
    }
   ],
   "source": [
    "train_set['Classification'].value_counts()/len(train_set)"
   ]
  },
  {
   "cell_type": "code",
   "execution_count": 7,
   "metadata": {},
   "outputs": [
    {
     "data": {
      "text/plain": [
       "0    0.333333\n",
       "1    0.264368\n",
       "2    0.183908\n",
       "4    0.149425\n",
       "5    0.034483\n",
       "3    0.034483\n",
       "Name: Classification, dtype: float64"
      ]
     },
     "execution_count": 7,
     "metadata": {},
     "output_type": "execute_result"
    }
   ],
   "source": [
    "val_set['Classification'].value_counts()/len(val_set)"
   ]
  },
  {
   "cell_type": "code",
   "execution_count": 9,
   "metadata": {},
   "outputs": [],
   "source": [
    "X_train = train_set.drop(['Classification'], axis=1).values\n",
    "y_train = train_set['Classification'].values\n",
    "\n",
    "X_val = val_set.drop(['Classification'], axis=1).values\n",
    "y_val = val_set['Classification'].values"
   ]
  },
  {
   "cell_type": "markdown",
   "metadata": {},
   "source": [
    "#### `MinMaxScaler`와 `SVC`를 이용한 모델링"
   ]
  },
  {
   "cell_type": "code",
   "execution_count": 10,
   "metadata": {},
   "outputs": [
    {
     "name": "stdout",
     "output_type": "stream",
     "text": [
      "0.7931034482758621\n"
     ]
    }
   ],
   "source": [
    "from sklearn.pipeline import Pipeline\n",
    "from sklearn.svm import SVC\n",
    "from sklearn.preprocessing import MinMaxScaler\n",
    "from sklearn.metrics import accuracy_score\n",
    "\n",
    "svm_pipeline = Pipeline([\n",
    "        ('scaler', MinMaxScaler()),\n",
    "        ('svc',  SVC(kernel=\"rbf\", gamma=0.01, C=1000.0)),\n",
    "    ])\n",
    "\n",
    "svm_pipeline.fit(X_train, y_train)\n",
    "y_pred = svm_pipeline.predict(X_val)\n",
    "print(accuracy_score(y_val, y_pred))"
   ]
  },
  {
   "cell_type": "markdown",
   "metadata": {},
   "source": [
    "#### 오차행렬"
   ]
  },
  {
   "cell_type": "code",
   "execution_count": 11,
   "metadata": {},
   "outputs": [],
   "source": [
    "y_pred = svm_pipeline.predict(X_val)\n",
    "\n",
    "from sklearn.metrics import confusion_matrix\n",
    "cm = confusion_matrix(y_val, y_pred)"
   ]
  },
  {
   "cell_type": "code",
   "execution_count": 12,
   "metadata": {},
   "outputs": [
    {
     "data": {
      "image/png": "[encoded data removed]",
      "text/plain": [
       "<Figure size 576x432 with 2 Axes>"
      ]
     },
     "metadata": {},
     "output_type": "display_data"
    }
   ],
   "source": [
    "import seaborn as sn\n",
    "import pandas as pd\n",
    "import matplotlib.pyplot as plt\n",
    "\n",
    "df_cm = pd.DataFrame(cm, index = label_indices,\n",
    "                  columns = label_indices)\n",
    "plt.figure(figsize = (8,6))\n",
    "sn.heatmap(df_cm, linecolor='black', linewidths=0.01, cmap='Greys', annot=True)\n",
    "plt.title('Confusion matrix')\n",
    "plt.show()"
   ]
  },
  {
   "cell_type": "markdown",
   "metadata": {},
   "source": [
    "#### 성능 측정"
   ]
  },
  {
   "cell_type": "code",
   "execution_count": 13,
   "metadata": {},
   "outputs": [
    {
     "name": "stdout",
     "output_type": "stream",
     "text": [
      "class:  ['marble', 'limestone', 'altered limestone', 'dolomite', 'intrusive rock', 'ore ']\n",
      "Precision:  [0.81818182 0.73684211 0.64285714 0.75       1.         0.75      ]\n",
      "Recall   :  [0.93103448 0.60869565 0.5625     1.         1.         1.        ]\n",
      "f1_score :  [0.87096774 0.66666667 0.6        0.85714286 1.         0.85714286]\n"
     ]
    }
   ],
   "source": [
    "from sklearn.metrics import precision_score, recall_score, f1_score\n",
    "print('class: ', label_indices)\n",
    "print('Precision: ', precision_score(y_val, y_pred, average=None))\n",
    "print('Recall   : ', recall_score(y_val, y_pred, average=None))\n",
    "print('f1_score : ', f1_score(y_val, y_pred, average=None))"
   ]
  }
 ],
 "metadata": {
  "kernelspec": {
   "display_name": "Python 3",
   "language": "python",
   "name": "python3"
  },
  "language_info": {
   "codemirror_mode": {
    "name": "ipython",
    "version": 3
   },
   "file_extension": ".py",
   "mimetype": "text/x-python",
   "name": "python",
   "nbconvert_exporter": "python",
   "pygments_lexer": "ipython3",
   "version": "3.6.3"
  }
 },
 "nbformat": 4,
 "nbformat_minor": 2
}
